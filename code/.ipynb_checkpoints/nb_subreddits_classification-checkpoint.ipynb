{
 "cells": [
  {
   "cell_type": "markdown",
   "metadata": {},
   "source": [
    "# Classification of Subreddits"
   ]
  },
  {
   "cell_type": "code",
   "execution_count": 82,
   "metadata": {},
   "outputs": [],
   "source": [
    "# imports\n",
    "import pandas as pd\n",
    "import numpy as np\n",
    "import matplotlib.pyplot as plt\n",
    "import seaborn as sns\n",
    "\n",
    "from sklearn.model_selection import train_test_split, GridSearchCV, cross_val_score\n",
    "from sklearn.naive_bayes import MultinomialNB\n",
    "from sklearn.metrics import confusion_matrix, plot_confusion_matrix, plot_roc_curve\n",
    "from sklearn.pipeline import make_pipeline\n",
    "\n",
    "# Import CountVectorizer and TFIDFVectorizer from feature_extraction.text.\n",
    "from sklearn.feature_extraction.text import CountVectorizer, TfidfVectorizer\n",
    "\n",
    "from nltk.stem.porter import PorterStemmer\n",
    "from nltk.stem import WordNetLemmatizer"
   ]
  },
  {
   "cell_type": "code",
   "execution_count": 2,
   "metadata": {},
   "outputs": [],
   "source": [
    "# read in cleaned data\n",
    "reddits = pd.read_csv('data/clean_reddits.csv')"
   ]
  },
  {
   "cell_type": "code",
   "execution_count": 3,
   "metadata": {},
   "outputs": [
    {
     "data": {
      "text/html": [
       "<div>\n",
       "<style scoped>\n",
       "    .dataframe tbody tr th:only-of-type {\n",
       "        vertical-align: middle;\n",
       "    }\n",
       "\n",
       "    .dataframe tbody tr th {\n",
       "        vertical-align: top;\n",
       "    }\n",
       "\n",
       "    .dataframe thead th {\n",
       "        text-align: right;\n",
       "    }\n",
       "</style>\n",
       "<table border=\"1\" class=\"dataframe\">\n",
       "  <thead>\n",
       "    <tr style=\"text-align: right;\">\n",
       "      <th></th>\n",
       "      <th>author</th>\n",
       "      <th>created_utc</th>\n",
       "      <th>permalink</th>\n",
       "      <th>subreddit</th>\n",
       "      <th>text</th>\n",
       "    </tr>\n",
       "  </thead>\n",
       "  <tbody>\n",
       "    <tr>\n",
       "      <th>0</th>\n",
       "      <td>dwaxe</td>\n",
       "      <td>1601660299</td>\n",
       "      <td>/r/TheOnion/comments/j3z3ds/real_estate_expert...</td>\n",
       "      <td>TheOnion</td>\n",
       "      <td>Real Estate Experts Confirm Having George Cloo...</td>\n",
       "    </tr>\n",
       "    <tr>\n",
       "      <th>1</th>\n",
       "      <td>kc9283</td>\n",
       "      <td>1601604158</td>\n",
       "      <td>/r/TheOnion/comments/j3m23g/subway_bread_isnt_...</td>\n",
       "      <td>TheOnion</td>\n",
       "      <td>Subway bread isn't bread, Irish court says</td>\n",
       "    </tr>\n",
       "  </tbody>\n",
       "</table>\n",
       "</div>"
      ],
      "text/plain": [
       "   author  created_utc                                          permalink  \\\n",
       "0   dwaxe   1601660299  /r/TheOnion/comments/j3z3ds/real_estate_expert...   \n",
       "1  kc9283   1601604158  /r/TheOnion/comments/j3m23g/subway_bread_isnt_...   \n",
       "\n",
       "  subreddit                                               text  \n",
       "0  TheOnion  Real Estate Experts Confirm Having George Cloo...  \n",
       "1  TheOnion         Subway bread isn't bread, Irish court says  "
      ]
     },
     "execution_count": 3,
     "metadata": {},
     "output_type": "execute_result"
    }
   ],
   "source": [
    "reddits.head(2)"
   ]
  },
  {
   "cell_type": "code",
   "execution_count": 4,
   "metadata": {},
   "outputs": [
    {
     "data": {
      "text/html": [
       "<div>\n",
       "<style scoped>\n",
       "    .dataframe tbody tr th:only-of-type {\n",
       "        vertical-align: middle;\n",
       "    }\n",
       "\n",
       "    .dataframe tbody tr th {\n",
       "        vertical-align: top;\n",
       "    }\n",
       "\n",
       "    .dataframe thead th {\n",
       "        text-align: right;\n",
       "    }\n",
       "</style>\n",
       "<table border=\"1\" class=\"dataframe\">\n",
       "  <thead>\n",
       "    <tr style=\"text-align: right;\">\n",
       "      <th></th>\n",
       "      <th>author</th>\n",
       "      <th>created_utc</th>\n",
       "      <th>permalink</th>\n",
       "      <th>subreddit</th>\n",
       "      <th>text</th>\n",
       "    </tr>\n",
       "  </thead>\n",
       "  <tbody>\n",
       "    <tr>\n",
       "      <th>29976</th>\n",
       "      <td>tamilidhal</td>\n",
       "      <td>1601267115</td>\n",
       "      <td>/r/news/comments/j15hsk/படடததரவகளல_பஙகறற_வலவயப...</td>\n",
       "      <td>news</td>\n",
       "      <td>போட்டித்தேர்வுகளில் பங்கேற்று வேலைவாய்ப்பு பெற...</td>\n",
       "    </tr>\n",
       "    <tr>\n",
       "      <th>29977</th>\n",
       "      <td>tamilidhal</td>\n",
       "      <td>1601267114</td>\n",
       "      <td>/r/news/comments/j15hs8/கரககல_அரச_மரததவமனயல_சம...</td>\n",
       "      <td>news</td>\n",
       "      <td>காரைக்கால் அரசு மருத்துவமனையில் சிமென்ட் காரை ...</td>\n",
       "    </tr>\n",
       "  </tbody>\n",
       "</table>\n",
       "</div>"
      ],
      "text/plain": [
       "           author  created_utc  \\\n",
       "29976  tamilidhal   1601267115   \n",
       "29977  tamilidhal   1601267114   \n",
       "\n",
       "                                               permalink subreddit  \\\n",
       "29976  /r/news/comments/j15hsk/படடததரவகளல_பஙகறற_வலவயப...      news   \n",
       "29977  /r/news/comments/j15hs8/கரககல_அரச_மரததவமனயல_சம...      news   \n",
       "\n",
       "                                                    text  \n",
       "29976  போட்டித்தேர்வுகளில் பங்கேற்று வேலைவாய்ப்பு பெற...  \n",
       "29977  காரைக்கால் அரசு மருத்துவமனையில் சிமென்ட் காரை ...  "
      ]
     },
     "execution_count": 4,
     "metadata": {},
     "output_type": "execute_result"
    }
   ],
   "source": [
    "reddits.tail(2)"
   ]
  },
  {
   "cell_type": "code",
   "execution_count": 5,
   "metadata": {},
   "outputs": [
    {
     "name": "stdout",
     "output_type": "stream",
     "text": [
      "<class 'pandas.core.frame.DataFrame'>\n",
      "RangeIndex: 29978 entries, 0 to 29977\n",
      "Data columns (total 5 columns):\n",
      " #   Column       Non-Null Count  Dtype \n",
      "---  ------       --------------  ----- \n",
      " 0   author       29978 non-null  object\n",
      " 1   created_utc  29978 non-null  int64 \n",
      " 2   permalink    29978 non-null  object\n",
      " 3   subreddit    29978 non-null  object\n",
      " 4   text         29978 non-null  object\n",
      "dtypes: int64(1), object(4)\n",
      "memory usage: 1.1+ MB\n"
     ]
    }
   ],
   "source": [
    "reddits.info()"
   ]
  },
  {
   "cell_type": "code",
   "execution_count": 6,
   "metadata": {},
   "outputs": [
    {
     "data": {
      "text/plain": [
       "(29978, 5)"
      ]
     },
     "execution_count": 6,
     "metadata": {},
     "output_type": "execute_result"
    }
   ],
   "source": [
    "reddits.shape"
   ]
  },
  {
   "cell_type": "code",
   "execution_count": 7,
   "metadata": {},
   "outputs": [],
   "source": [
    "# set X and y\n",
    "X = reddits['text']\n",
    "\n",
    "# binarize the target.\n",
    "y = np.where(reddits['subreddit'] == 'TheOnion', 1, 0)"
   ]
  },
  {
   "cell_type": "code",
   "execution_count": 8,
   "metadata": {},
   "outputs": [],
   "source": [
    "# train test split (no need to stratify, sample number are essentially the same for both subreddits)\n",
    "X_train, X_test, y_train, y_test = train_test_split(X, y, stratify=y, random_state = 777)"
   ]
  },
  {
   "cell_type": "markdown",
   "metadata": {},
   "source": [
    "### Calculating the baseline"
   ]
  },
  {
   "cell_type": "code",
   "execution_count": 9,
   "metadata": {},
   "outputs": [
    {
     "data": {
      "text/plain": [
       "0.49966644429619744"
      ]
     },
     "execution_count": 9,
     "metadata": {},
     "output_type": "execute_result"
    }
   ],
   "source": [
    "y_test.sum() / len(y_test)"
   ]
  },
  {
   "cell_type": "markdown",
   "metadata": {},
   "source": [
    "##### As expected, the baseline would be 50% if guessed The Onion. It's essentially as good as a coin toss."
   ]
  },
  {
   "cell_type": "code",
   "execution_count": 10,
   "metadata": {},
   "outputs": [],
   "source": [
    "# instatiate CounterVectorizer\n",
    "cvect = CountVectorizer(stop_words='english')"
   ]
  },
  {
   "cell_type": "code",
   "execution_count": 63,
   "metadata": {},
   "outputs": [],
   "source": [
    "X_train_cvect = cvect.fit_transform(X_train, y_train)\n",
    "X_test_cvect = cvect.transform(X_test)"
   ]
  },
  {
   "cell_type": "markdown",
   "metadata": {},
   "source": [
    "#### A tiny bit of EDA"
   ]
  },
  {
   "cell_type": "code",
   "execution_count": 12,
   "metadata": {},
   "outputs": [],
   "source": [
    "# convert X_train to df\n",
    "X_train_df = pd.DataFrame(X_train_cvect.toarray(),\n",
    "                          columns=cvect.get_feature_names())\n",
    "\n",
    "# empty dictionary\n",
    "top_words = {}\n",
    "\n",
    "# loop through columns\n",
    "for i in X_train_df.columns:\n",
    "    # save sum of each column in dictionary\n",
    "    top_words[i] = X_train_df[i].sum()\n",
    "    \n",
    "# top_words to dataframe sorted by highest occurance\n",
    "most_freq = pd.DataFrame(sorted(top_words.items(), key = lambda x: x[1], reverse = True))"
   ]
  },
  {
   "cell_type": "code",
   "execution_count": 13,
   "metadata": {},
   "outputs": [
    {
     "data": {
      "image/png": "[encoded data removed]",
      "text/plain": [
       "<Figure size 432x288 with 1 Axes>"
      ]
     },
     "metadata": {
      "needs_background": "light"
     },
     "output_type": "display_data"
    }
   ],
   "source": [
    "# convert most frequent words to dataframe\n",
    "most_freq_df = pd.DataFrame(most_freq)\n",
    "\n",
    "# visualize top 10 words\n",
    "most_freq_df.nlargest(10, 1).plot(kind = 'bar', legend=None)\n",
    "plt.xticks([i for i in range(10)], [col for col in most_freq_df.nlargest(10, 1)[0]])\n",
    "plt.xlabel('Words')\n",
    "plt.ylabel('Count')\n",
    "plt.title('The 10 Most Frequent Words from Subreddits r/TheOnion and r/news')\n",
    "plt.savefig('figures/10_most_frequent_words', bbox_inches='tight');"
   ]
  },
  {
   "cell_type": "markdown",
   "metadata": {},
   "source": [
    "All those words look relevant, so I don't there is any need to add more stop words. However, I may benefit from stemming or keeping some words together like covid and 19. For right now, I will continue with this set."
   ]
  },
  {
   "cell_type": "code",
   "execution_count": 14,
   "metadata": {},
   "outputs": [
    {
     "data": {
      "text/plain": [
       "(22483, 31904)"
      ]
     },
     "execution_count": 14,
     "metadata": {},
     "output_type": "execute_result"
    }
   ],
   "source": [
    "# how many words total after countervectorizer?\n",
    "X_train_cvect.shape"
   ]
  },
  {
   "cell_type": "markdown",
   "metadata": {},
   "source": [
    "### Classification using CounterVectorizer and NaiveBayes"
   ]
  },
  {
   "cell_type": "code",
   "execution_count": 64,
   "metadata": {},
   "outputs": [
    {
     "data": {
      "text/plain": [
       "MultinomialNB()"
      ]
     },
     "execution_count": 64,
     "metadata": {},
     "output_type": "execute_result"
    }
   ],
   "source": [
    "# instatiate naive bayes\n",
    "nbayes = MultinomialNB()\n",
    "nbayes.fit(X_train_cvect, y_train)"
   ]
  },
  {
   "cell_type": "code",
   "execution_count": 65,
   "metadata": {},
   "outputs": [
    {
     "name": "stdout",
     "output_type": "stream",
     "text": [
      "train score: 0.9326157541253391\n",
      "test_score: 0.8889926617745163\n"
     ]
    }
   ],
   "source": [
    "# score\n",
    "print('train score:', nbayes.score(X_train_cvect, y_train))\n",
    "print('test_score:', nbayes.score(X_test_cvect, y_test))"
   ]
  },
  {
   "cell_type": "code",
   "execution_count": 81,
   "metadata": {},
   "outputs": [],
   "source": [
    "# write scores to file\n",
    "train_score = nbayes.score(X_train_cvect, y_train)\n",
    "test_score = nbayes.score(X_test_cvect, y_test)\n",
    "score_df = pd.DataFrame({'model': 'naive_bayes', 'train_accuracy': train_score, 'test_accuracy': test_score}, index=[0])\n",
    "score_df.to_csv('data/model_scores.csv', index=False)"
   ]
  },
  {
   "cell_type": "code",
   "execution_count": 17,
   "metadata": {},
   "outputs": [
    {
     "data": {
      "text/plain": [
       "array([0.8772515 , 0.87229784, 0.87736856])"
      ]
     },
     "execution_count": 17,
     "metadata": {},
     "output_type": "execute_result"
    }
   ],
   "source": [
    "# cross validate\n",
    "cross_val_score(nbayes, X_train_cvect, y_train, cv=3)"
   ]
  },
  {
   "cell_type": "code",
   "execution_count": 18,
   "metadata": {},
   "outputs": [
    {
     "data": {
      "image/png": "[encoded data removed]",
      "text/plain": [
       "<Figure size 432x288 with 2 Axes>"
      ]
     },
     "metadata": {
      "needs_background": "light"
     },
     "output_type": "display_data"
    }
   ],
   "source": [
    "plot_confusion_matrix(nbayes, X_test_cvect, y_test, display_labels=['news', 'The Onion']);"
   ]
  },
  {
   "cell_type": "markdown",
   "metadata": {},
   "source": [
    "### Classification using TfidfVectorizer and NaiveBayes"
   ]
  },
  {
   "cell_type": "code",
   "execution_count": 19,
   "metadata": {},
   "outputs": [],
   "source": [
    "# Instantiate the TfidfVectorizer\n",
    "tvec = TfidfVectorizer(stop_words='english')"
   ]
  },
  {
   "cell_type": "code",
   "execution_count": 20,
   "metadata": {},
   "outputs": [],
   "source": [
    "X_train_tvec = tvec.fit_transform(X_train, y_train)\n",
    "X_test_tvec = tvec.transform(X_test)"
   ]
  },
  {
   "cell_type": "code",
   "execution_count": 21,
   "metadata": {},
   "outputs": [
    {
     "data": {
      "text/plain": [
       "MultinomialNB()"
      ]
     },
     "execution_count": 21,
     "metadata": {},
     "output_type": "execute_result"
    }
   ],
   "source": [
    "# fit to naive bayes\n",
    "nbayes = MultinomialNB()\n",
    "nbayes.fit(X_train_tvec, y_train)"
   ]
  },
  {
   "cell_type": "code",
   "execution_count": 22,
   "metadata": {},
   "outputs": [
    {
     "name": "stdout",
     "output_type": "stream",
     "text": [
      "train score: 0.9264333051639017\n",
      "test_score: 0.8883255503669113\n"
     ]
    }
   ],
   "source": [
    "# score\n",
    "print('train score:', nbayes.score(X_train_cvect, y_train))\n",
    "print('test_score:', nbayes.score(X_test_cvect, y_test))"
   ]
  },
  {
   "cell_type": "code",
   "execution_count": 23,
   "metadata": {},
   "outputs": [
    {
     "data": {
      "text/plain": [
       "array([0.8772515 , 0.87229784, 0.87736856])"
      ]
     },
     "execution_count": 23,
     "metadata": {},
     "output_type": "execute_result"
    }
   ],
   "source": [
    "# cross validate\n",
    "cross_val_score(nbayes, X_train_cvect, y_train, cv=3)"
   ]
  },
  {
   "cell_type": "code",
   "execution_count": 24,
   "metadata": {},
   "outputs": [
    {
     "data": {
      "image/png": "[encoded data removed]",
      "text/plain": [
       "<Figure size 432x288 with 2 Axes>"
      ]
     },
     "metadata": {
      "needs_background": "light"
     },
     "output_type": "display_data"
    }
   ],
   "source": [
    "plot_confusion_matrix(nbayes, X_test_cvect, y_test, display_labels=['news', 'The Onion']);"
   ]
  },
  {
   "cell_type": "markdown",
   "metadata": {},
   "source": [
    "TfidVectorizer or CounterVectorizer don't seem to make a difference on the model, but Bayes is performing best with the defaul settings. I will optimize using TfidVectorizer and Naive Bayes"
   ]
  },
  {
   "cell_type": "markdown",
   "metadata": {},
   "source": [
    "### Optimazing Naive Bayes with TfidVectorizer"
   ]
  },
  {
   "cell_type": "code",
   "execution_count": 25,
   "metadata": {},
   "outputs": [],
   "source": [
    "# use pipeline and gridsearch to try to improve the accuracy score\n",
    "tvec = TfidfVectorizer(stop_words='english')\n",
    "nbayes = MultinomialNB()\n",
    "\n",
    "# make a pipeline\n",
    "pipe = make_pipeline(tvec, nbayes)\n",
    "\n",
    "\n",
    "params = {\n",
    "    'tfidfvectorizer__max_features': [2000, 3000, 4000, 500],\n",
    "    'tfidfvectorizer__min_df': [2 ,3],\n",
    "    'tfidfvectorizer__max_df': [0.9, 0.95],\n",
    "    'tfidfvectorizer__ngram_range': [(1,1), (1, 2)],\n",
    "    'multinomialnb__alpha': [0, 0.001, 0.01, 0.1, 1, 10],\n",
    "    'multinomialnb__fit_prior': [True, False]\n",
    "              }\n",
    "\n",
    "grid = GridSearchCV(pipe, params, n_jobs = -1)"
   ]
  },
  {
   "cell_type": "code",
   "execution_count": 26,
   "metadata": {},
   "outputs": [
    {
     "data": {
      "text/plain": [
       "GridSearchCV(estimator=Pipeline(steps=[('tfidfvectorizer',\n",
       "                                        TfidfVectorizer(stop_words='english')),\n",
       "                                       ('multinomialnb', MultinomialNB())]),\n",
       "             n_jobs=-1,\n",
       "             param_grid={'multinomialnb__alpha': [0, 0.001, 0.01, 0.1, 1, 10],\n",
       "                         'multinomialnb__fit_prior': [True, False],\n",
       "                         'tfidfvectorizer__max_df': [0.9, 0.95],\n",
       "                         'tfidfvectorizer__max_features': [2000, 3000, 4000,\n",
       "                                                           500],\n",
       "                         'tfidfvectorizer__min_df': [2, 3],\n",
       "                         'tfidfvectorizer__ngram_range': [(1, 1), (1, 2)]})"
      ]
     },
     "execution_count": 26,
     "metadata": {},
     "output_type": "execute_result"
    }
   ],
   "source": [
    "grid.fit(X_train, y_train)"
   ]
  },
  {
   "cell_type": "code",
   "execution_count": 27,
   "metadata": {},
   "outputs": [
    {
     "data": {
      "text/plain": [
       "{'multinomialnb__alpha': 0.1,\n",
       " 'multinomialnb__fit_prior': False,\n",
       " 'tfidfvectorizer__max_df': 0.9,\n",
       " 'tfidfvectorizer__max_features': 4000,\n",
       " 'tfidfvectorizer__min_df': 3,\n",
       " 'tfidfvectorizer__ngram_range': (1, 1)}"
      ]
     },
     "execution_count": 27,
     "metadata": {},
     "output_type": "execute_result"
    }
   ],
   "source": [
    "grid.best_params_"
   ]
  },
  {
   "cell_type": "code",
   "execution_count": 28,
   "metadata": {},
   "outputs": [
    {
     "name": "stdout",
     "output_type": "stream",
     "text": [
      "train score: 0.8886714406440421\n",
      "test_score: 0.8675116744496331\n"
     ]
    }
   ],
   "source": [
    "# score\n",
    "print('train score:', grid.score(X_train, y_train))\n",
    "print('test_score:', grid.score(X_test, y_test))"
   ]
  },
  {
   "cell_type": "code",
   "execution_count": 29,
   "metadata": {},
   "outputs": [
    {
     "data": {
      "text/plain": [
       "GridSearchCV(estimator=Pipeline(steps=[('tfidfvectorizer',\n",
       "                                        TfidfVectorizer(stop_words='english')),\n",
       "                                       ('multinomialnb', MultinomialNB())]),\n",
       "             n_jobs=-1,\n",
       "             param_grid={'multinomialnb__alpha': [0.1, 1, 10],\n",
       "                         'tfidfvectorizer__max_df': [0.85, 0.9, 0.92],\n",
       "                         'tfidfvectorizer__max_features': [4000, 5000, 10000],\n",
       "                         'tfidfvectorizer__min_df': [1, 2, 3],\n",
       "                         'tfidfvectorizer__ngram_range': [(1, 1), (1, 2),\n",
       "                                                          (1, 3)]})"
      ]
     },
     "execution_count": 29,
     "metadata": {},
     "output_type": "execute_result"
    }
   ],
   "source": [
    "# try again for more fine tuning\n",
    "\n",
    "params_2 = {\n",
    "    'tfidfvectorizer__max_features': [4000, 5000, 10000],\n",
    "    'tfidfvectorizer__min_df': [1, 2 ,3],\n",
    "    'tfidfvectorizer__max_df': [0.85, 0.9, 0.92],\n",
    "    'tfidfvectorizer__ngram_range': [(1,1), (1, 2), (1, 3)],\n",
    "    'multinomialnb__alpha': [0.1, 1, 10]\n",
    "              }\n",
    "\n",
    "grid2 = GridSearchCV(pipe, params_2, n_jobs = -1)\n",
    "\n",
    "grid2.fit(X_train, y_train)"
   ]
  },
  {
   "cell_type": "code",
   "execution_count": 30,
   "metadata": {},
   "outputs": [
    {
     "data": {
      "text/plain": [
       "{'multinomialnb__alpha': 0.1,\n",
       " 'tfidfvectorizer__max_df': 0.85,\n",
       " 'tfidfvectorizer__max_features': 10000,\n",
       " 'tfidfvectorizer__min_df': 2,\n",
       " 'tfidfvectorizer__ngram_range': (1, 2)}"
      ]
     },
     "execution_count": 30,
     "metadata": {},
     "output_type": "execute_result"
    }
   ],
   "source": [
    "grid2.best_params_"
   ]
  },
  {
   "cell_type": "code",
   "execution_count": 31,
   "metadata": {},
   "outputs": [
    {
     "name": "stdout",
     "output_type": "stream",
     "text": [
      "train score: 0.9190499488502424\n",
      "test_score: 0.8821881254169446\n"
     ]
    }
   ],
   "source": [
    "# score\n",
    "print('train score:', grid2.score(X_train, y_train))\n",
    "print('test_score:', grid2.score(X_test, y_test))"
   ]
  },
  {
   "cell_type": "markdown",
   "metadata": {},
   "source": [
    "### Optimazing Naive Bayes with CounterVectorizer"
   ]
  },
  {
   "cell_type": "code",
   "execution_count": 32,
   "metadata": {},
   "outputs": [],
   "source": [
    "# use pipeline and gridsearch to try to improve the accuracy score\n",
    "cvect = CountVectorizer(stop_words='english')\n",
    "nbayes = MultinomialNB()\n",
    "\n",
    "# make a pipeline\n",
    "pipe2 = make_pipeline(cvect, nbayes)\n",
    "\n",
    "\n",
    "params3 = {\n",
    "    'countvectorizer__max_features': [5000, 10000],\n",
    "    'countvectorizer__min_df': [2, 3],\n",
    "    'countvectorizer__max_df': [0.5, 0.7, 0.9],\n",
    "    'countvectorizer__ngram_range': [(1,1), (1, 2)],\n",
    "    'multinomialnb__alpha': [0, 0.001, 0.01, 0.1]\n",
    "              }\n",
    "\n",
    "grid3 = GridSearchCV(pipe2, params3, n_jobs = -1)"
   ]
  },
  {
   "cell_type": "code",
   "execution_count": 33,
   "metadata": {},
   "outputs": [
    {
     "data": {
      "text/plain": [
       "GridSearchCV(estimator=Pipeline(steps=[('countvectorizer',\n",
       "                                        CountVectorizer(stop_words='english')),\n",
       "                                       ('multinomialnb', MultinomialNB())]),\n",
       "             n_jobs=-1,\n",
       "             param_grid={'countvectorizer__max_df': [0.5, 0.7, 0.9],\n",
       "                         'countvectorizer__max_features': [5000, 10000],\n",
       "                         'countvectorizer__min_df': [2, 3],\n",
       "                         'countvectorizer__ngram_range': [(1, 1), (1, 2)],\n",
       "                         'multinomialnb__alpha': [0, 0.001, 0.01, 0.1]})"
      ]
     },
     "execution_count": 33,
     "metadata": {},
     "output_type": "execute_result"
    }
   ],
   "source": [
    "grid3.fit(X_train, y_train)"
   ]
  },
  {
   "cell_type": "code",
   "execution_count": 34,
   "metadata": {},
   "outputs": [
    {
     "data": {
      "text/plain": [
       "{'countvectorizer__max_df': 0.5,\n",
       " 'countvectorizer__max_features': 10000,\n",
       " 'countvectorizer__min_df': 2,\n",
       " 'countvectorizer__ngram_range': (1, 1),\n",
       " 'multinomialnb__alpha': 0.1}"
      ]
     },
     "execution_count": 34,
     "metadata": {},
     "output_type": "execute_result"
    }
   ],
   "source": [
    "grid3.best_params_"
   ]
  },
  {
   "cell_type": "code",
   "execution_count": 35,
   "metadata": {},
   "outputs": [
    {
     "name": "stdout",
     "output_type": "stream",
     "text": [
      "train score: 0.9200284659520527\n",
      "test_score: 0.8843228819212808\n"
     ]
    }
   ],
   "source": [
    "print('train score:', grid3.score(X_train, y_train))\n",
    "print('test_score:', grid3.score(X_test, y_test))"
   ]
  },
  {
   "cell_type": "markdown",
   "metadata": {},
   "source": [
    "### Optimazing Naive Bayes with TfidVectorizer and Incorporating WordNetLemmatizer"
   ]
  },
  {
   "cell_type": "code",
   "execution_count": 36,
   "metadata": {},
   "outputs": [],
   "source": [
    "def split_lemm(text):\n",
    "    text = text.lower()\n",
    "    lemm = WordNetLemmatizer()\n",
    "    return ' '.join([lemm.lemmatize(word) for word in text.split()])\n",
    "\n",
    "# use pipeline and gridsearch to try to improve the accuracy score\n",
    "tvec = TfidfVectorizer(stop_words='english')\n",
    "nbayes = MultinomialNB()\n",
    "\n",
    "pipe = make_pipeline(tvec, nbayes)\n",
    "\n",
    "\n",
    "params4 = {\n",
    "    'tfidfvectorizer__max_features': [5000, 10000, 15000],\n",
    "    'tfidfvectorizer__min_df': [2 ,3],\n",
    "    'tfidfvectorizer__max_df': [0.4, 0.6, 0.8],\n",
    "    'tfidfvectorizer__ngram_range': [(1,1), (1, 2)],\n",
    "    'tfidfvectorizer__preprocessor': [None, split_lemm],\n",
    "    'multinomialnb__alpha': [0.01, 0.1, 1]\n",
    "              }\n",
    "\n",
    "grid4 = GridSearchCV(pipe, params4, n_jobs = -1)"
   ]
  },
  {
   "cell_type": "code",
   "execution_count": 37,
   "metadata": {},
   "outputs": [
    {
     "data": {
      "text/plain": [
       "GridSearchCV(estimator=Pipeline(steps=[('tfidfvectorizer',\n",
       "                                        TfidfVectorizer(stop_words='english')),\n",
       "                                       ('multinomialnb', MultinomialNB())]),\n",
       "             n_jobs=-1,\n",
       "             param_grid={'multinomialnb__alpha': [0.01, 0.1, 1],\n",
       "                         'tfidfvectorizer__max_df': [0.4, 0.6, 0.8],\n",
       "                         'tfidfvectorizer__max_features': [5000, 10000, 15000],\n",
       "                         'tfidfvectorizer__min_df': [2, 3],\n",
       "                         'tfidfvectorizer__ngram_range': [(1, 1), (1, 2)],\n",
       "                         'tfidfvectorizer__preprocessor': [None,\n",
       "                                                           <function split_lemm at 0x7ff368f07c20>]})"
      ]
     },
     "execution_count": 37,
     "metadata": {},
     "output_type": "execute_result"
    }
   ],
   "source": [
    "grid4.fit(X_train, y_train)"
   ]
  },
  {
   "cell_type": "code",
   "execution_count": 38,
   "metadata": {},
   "outputs": [
    {
     "data": {
      "text/plain": [
       "{'multinomialnb__alpha': 0.1,\n",
       " 'tfidfvectorizer__max_df': 0.4,\n",
       " 'tfidfvectorizer__max_features': 15000,\n",
       " 'tfidfvectorizer__min_df': 2,\n",
       " 'tfidfvectorizer__ngram_range': (1, 2),\n",
       " 'tfidfvectorizer__preprocessor': None}"
      ]
     },
     "execution_count": 38,
     "metadata": {},
     "output_type": "execute_result"
    }
   ],
   "source": [
    "grid4.best_params_"
   ]
  },
  {
   "cell_type": "code",
   "execution_count": 39,
   "metadata": {},
   "outputs": [
    {
     "name": "stdout",
     "output_type": "stream",
     "text": [
      "train score: 0.9317261931236934\n",
      "test_score: 0.8872581721147431\n"
     ]
    }
   ],
   "source": [
    "print('train score:', grid4.score(X_train, y_train))\n",
    "print('test_score:', grid4.score(X_test, y_test))"
   ]
  },
  {
   "cell_type": "markdown",
   "metadata": {},
   "source": [
    "### Optimazing Naive Bayes with TfidVectorizer and Incorporating PorterStemmer"
   ]
  },
  {
   "cell_type": "code",
   "execution_count": 40,
   "metadata": {},
   "outputs": [],
   "source": [
    "def split_stem(text):\n",
    "    text = text.lower()\n",
    "    stem = PorterStemmerr()\n",
    "    return ' '.join([stem.stem(word) for word in text.split()])\n",
    "\n",
    "# use pipeline and gridsearch to try to improve the accuracy score\n",
    "tvec = TfidfVectorizer(stop_words='english')\n",
    "nbayes = MultinomialNB()\n",
    "\n",
    "pipe = make_pipeline(tvec, nbayes)\n",
    "\n",
    "\n",
    "params5 = {\n",
    "    'tfidfvectorizer__max_features': [10000, 15000],\n",
    "    'tfidfvectorizer__min_df': [2 ,3],\n",
    "    'tfidfvectorizer__max_df': [0.4, 0.5],\n",
    "    'tfidfvectorizer__ngram_range': [(1,1), (1, 2)],\n",
    "    'tfidfvectorizer__preprocessor': [None, split_stem],\n",
    "    'multinomialnb__alpha': [0.01, 0.1, 1]\n",
    "              }\n",
    "\n",
    "grid5 = GridSearchCV(pipe, params5, n_jobs = -1)"
   ]
  },
  {
   "cell_type": "code",
   "execution_count": 41,
   "metadata": {},
   "outputs": [
    {
     "data": {
      "text/plain": [
       "GridSearchCV(estimator=Pipeline(steps=[('tfidfvectorizer',\n",
       "                                        TfidfVectorizer(stop_words='english')),\n",
       "                                       ('multinomialnb', MultinomialNB())]),\n",
       "             n_jobs=-1,\n",
       "             param_grid={'multinomialnb__alpha': [0.01, 0.1, 1],\n",
       "                         'tfidfvectorizer__max_df': [0.4, 0.5],\n",
       "                         'tfidfvectorizer__max_features': [10000, 15000],\n",
       "                         'tfidfvectorizer__min_df': [2, 3],\n",
       "                         'tfidfvectorizer__ngram_range': [(1, 1), (1, 2)],\n",
       "                         'tfidfvectorizer__preprocessor': [None,\n",
       "                                                           <function split_stem at 0x7ff378811dd0>]})"
      ]
     },
     "execution_count": 41,
     "metadata": {},
     "output_type": "execute_result"
    }
   ],
   "source": [
    "grid5.fit(X_train, y_train)"
   ]
  },
  {
   "cell_type": "code",
   "execution_count": 42,
   "metadata": {},
   "outputs": [
    {
     "data": {
      "text/plain": [
       "{'multinomialnb__alpha': 0.1,\n",
       " 'tfidfvectorizer__max_df': 0.4,\n",
       " 'tfidfvectorizer__max_features': 15000,\n",
       " 'tfidfvectorizer__min_df': 2,\n",
       " 'tfidfvectorizer__ngram_range': (1, 2),\n",
       " 'tfidfvectorizer__preprocessor': None}"
      ]
     },
     "execution_count": 42,
     "metadata": {},
     "output_type": "execute_result"
    }
   ],
   "source": [
    "grid5.best_params_"
   ]
  },
  {
   "cell_type": "code",
   "execution_count": 44,
   "metadata": {},
   "outputs": [
    {
     "name": "stdout",
     "output_type": "stream",
     "text": [
      "train score: 0.9317261931236934\n",
      "test_score: 0.8872581721147431\n"
     ]
    }
   ],
   "source": [
    "print('train score:', grid5.score(X_train, y_train))\n",
    "print('test_score:', grid5.score(X_test, y_test))"
   ]
  },
  {
   "cell_type": "code",
   "execution_count": null,
   "metadata": {},
   "outputs": [],
   "source": [
    "# more optimization"
   ]
  },
  {
   "cell_type": "code",
   "execution_count": 45,
   "metadata": {},
   "outputs": [],
   "source": [
    "def split_stem(text):\n",
    "    text = text.lower()\n",
    "    stem = PorterStemmerr()\n",
    "    return ' '.join([stem.stem(word) for word in text.split()])\n",
    "\n",
    "# use pipeline and gridsearch to try to improve the accuracy score\n",
    "tvec = TfidfVectorizer(stop_words='english')\n",
    "nbayes = MultinomialNB()\n",
    "\n",
    "pipe = make_pipeline(tvec, nbayes)\n",
    "\n",
    "\n",
    "params6 = {\n",
    "    'tfidfvectorizer__max_features': [15000, 20000],\n",
    "    'tfidfvectorizer__min_df': [1, 2],\n",
    "    'tfidfvectorizer__max_df': [0.1, 0.4],\n",
    "    'tfidfvectorizer__ngram_range': [(1,1), (1, 2)],\n",
    "    'tfidfvectorizer__preprocessor': [None, split_stem],\n",
    "    'multinomialnb__alpha': [0.05, 0.1, 0.15]\n",
    "              }\n",
    "\n",
    "grid6 = GridSearchCV(pipe, params5, n_jobs = -1)"
   ]
  },
  {
   "cell_type": "code",
   "execution_count": 46,
   "metadata": {},
   "outputs": [
    {
     "data": {
      "text/plain": [
       "GridSearchCV(estimator=Pipeline(steps=[('tfidfvectorizer',\n",
       "                                        TfidfVectorizer(stop_words='english')),\n",
       "                                       ('multinomialnb', MultinomialNB())]),\n",
       "             n_jobs=-1,\n",
       "             param_grid={'multinomialnb__alpha': [0.01, 0.1, 1],\n",
       "                         'tfidfvectorizer__max_df': [0.4, 0.5],\n",
       "                         'tfidfvectorizer__max_features': [10000, 15000],\n",
       "                         'tfidfvectorizer__min_df': [2, 3],\n",
       "                         'tfidfvectorizer__ngram_range': [(1, 1), (1, 2)],\n",
       "                         'tfidfvectorizer__preprocessor': [None,\n",
       "                                                           <function split_stem at 0x7ff378811dd0>]})"
      ]
     },
     "execution_count": 46,
     "metadata": {},
     "output_type": "execute_result"
    }
   ],
   "source": [
    "grid6.fit(X_train, y_train)"
   ]
  },
  {
   "cell_type": "code",
   "execution_count": 47,
   "metadata": {},
   "outputs": [
    {
     "data": {
      "text/plain": [
       "{'multinomialnb__alpha': 0.1,\n",
       " 'tfidfvectorizer__max_df': 0.4,\n",
       " 'tfidfvectorizer__max_features': 15000,\n",
       " 'tfidfvectorizer__min_df': 2,\n",
       " 'tfidfvectorizer__ngram_range': (1, 2),\n",
       " 'tfidfvectorizer__preprocessor': None}"
      ]
     },
     "execution_count": 47,
     "metadata": {},
     "output_type": "execute_result"
    }
   ],
   "source": [
    "grid6.best_params_"
   ]
  },
  {
   "cell_type": "code",
   "execution_count": 48,
   "metadata": {},
   "outputs": [
    {
     "name": "stdout",
     "output_type": "stream",
     "text": [
      "train score: 0.9317261931236934\n",
      "test_score: 0.8872581721147431\n"
     ]
    }
   ],
   "source": [
    "print('train score:', grid6.score(X_train, y_train))\n",
    "print('test_score:', grid6.score(X_test, y_test))"
   ]
  },
  {
   "cell_type": "markdown",
   "metadata": {},
   "source": [
    "### Further tuning with CountVectorizer"
   ]
  },
  {
   "cell_type": "code",
   "execution_count": 50,
   "metadata": {},
   "outputs": [
    {
     "data": {
      "text/plain": [
       "GridSearchCV(estimator=Pipeline(steps=[('countvectorizer',\n",
       "                                        CountVectorizer(stop_words='english')),\n",
       "                                       ('multinomialnb', MultinomialNB())]),\n",
       "             n_jobs=-1,\n",
       "             param_grid={'countvectorizer__max_df': [0.5, 0.7, 0.9],\n",
       "                         'countvectorizer__max_features': [5000, 10000],\n",
       "                         'countvectorizer__min_df': [2, 3],\n",
       "                         'countvectorizer__ngram_range': [(1, 1), (1, 2)],\n",
       "                         'multinomialnb__alpha': [0, 0.001, 0.01, 0.1]})"
      ]
     },
     "execution_count": 50,
     "metadata": {},
     "output_type": "execute_result"
    }
   ],
   "source": [
    "# use pipeline and gridsearch to try to improve the accuracy score\n",
    "cvect = CountVectorizer(stop_words='english')\n",
    "nbayes = MultinomialNB()\n",
    "\n",
    "# make a pipeline\n",
    "pipe2 = make_pipeline(cvect, nbayes)\n",
    "\n",
    "\n",
    "params7 = {\n",
    "    'countvectorizer__max_features': [20000, 25000],\n",
    "    'countvectorizer__min_df': [2],\n",
    "    'countvectorizer__max_df': [0.1, 0.2],\n",
    "    'countvectorizer__ngram_range': [(1, 2)],\n",
    "    'multinomialnb__alpha': [0.05, 0.1, 0.5]\n",
    "              }\n",
    "\n",
    "grid7 = GridSearchCV(pipe2, params3, n_jobs = -1)\n",
    "\n",
    "grid7.fit(X_train, y_train)"
   ]
  },
  {
   "cell_type": "code",
   "execution_count": 51,
   "metadata": {},
   "outputs": [
    {
     "data": {
      "text/plain": [
       "{'countvectorizer__max_df': 0.5,\n",
       " 'countvectorizer__max_features': 10000,\n",
       " 'countvectorizer__min_df': 2,\n",
       " 'countvectorizer__ngram_range': (1, 1),\n",
       " 'multinomialnb__alpha': 0.1}"
      ]
     },
     "execution_count": 51,
     "metadata": {},
     "output_type": "execute_result"
    }
   ],
   "source": [
    "grid7.best_params_"
   ]
  },
  {
   "cell_type": "code",
   "execution_count": 52,
   "metadata": {},
   "outputs": [
    {
     "name": "stdout",
     "output_type": "stream",
     "text": [
      "train score: 0.9200284659520527\n",
      "test_score: 0.8843228819212808\n"
     ]
    }
   ],
   "source": [
    "print('train score:', grid7.score(X_train, y_train))\n",
    "print('test_score:', grid7.score(X_test, y_test))"
   ]
  },
  {
   "cell_type": "markdown",
   "metadata": {},
   "source": [
    "Models from `grid4`, `grid5`, and `grid6` all result in the same scores. I will proceed with `grid4` to analyze further."
   ]
  },
  {
   "cell_type": "markdown",
   "metadata": {},
   "source": [
    "### Analysis of the best model"
   ]
  },
  {
   "cell_type": "code",
   "execution_count": 53,
   "metadata": {},
   "outputs": [
    {
     "data": {
      "image/png": "[encoded data removed]",
      "text/plain": [
       "<Figure size 432x288 with 2 Axes>"
      ]
     },
     "metadata": {
      "needs_background": "light"
     },
     "output_type": "display_data"
    }
   ],
   "source": [
    "# confusion matrix\n",
    "fig = plot_confusion_matrix(grid4, X_test, y_test, display_labels=['news', 'The Onion'], cmap='YlGn')\n",
    "fig;"
   ]
  },
  {
   "cell_type": "code",
   "execution_count": 84,
   "metadata": {},
   "outputs": [
    {
     "data": {
      "image/png": "[encoded data removed]",
      "text/plain": [
       "<Figure size 432x288 with 1 Axes>"
      ]
     },
     "metadata": {
      "needs_background": "light"
     },
     "output_type": "display_data"
    }
   ],
   "source": [
    "# roc auc curve\n",
    "plot_roc_curve(grid4, X_train, y_train)\n",
    "plt.plot([0,1], [0,1], 'k--');"
   ]
  },
  {
   "cell_type": "code",
   "execution_count": 55,
   "metadata": {},
   "outputs": [],
   "source": [
    "words = grid4.best_estimator_.named_steps['tfidfvectorizer'].get_feature_names()\n",
    "word_coefs = grid4.best_estimator_.named_steps['multinomialnb'].coef_[0]\n",
    "word_coef_df = pd.DataFrame({'coefs': word_coefs, 'word': words})"
   ]
  },
  {
   "cell_type": "code",
   "execution_count": 86,
   "metadata": {},
   "outputs": [
    {
     "data": {
      "image/png": "[encoded data removed]",
      "text/plain": [
       "<Figure size 432x288 with 1 Axes>"
      ]
     },
     "metadata": {
      "needs_background": "light"
     },
     "output_type": "display_data"
    }
   ],
   "source": [
    "word_coef_df.nlargest(10, 'coefs').plot(kind = 'barh', legend=None)\n",
    "plt.yticks([i for i in range(10)], word_coef_df.nlargest(10, 'coefs')['word'])\n",
    "plt.xlabel('Coefficients')\n",
    "plt.title('Important Words')\n",
    "plt.savefig('figures/nb_important_words.png', bbox_inches='tight');"
   ]
  },
  {
   "cell_type": "code",
   "execution_count": 87,
   "metadata": {},
   "outputs": [
    {
     "data": {
      "image/png": "[encoded data removed]",
      "text/plain": [
       "<Figure size 432x288 with 1 Axes>"
      ]
     },
     "metadata": {
      "needs_background": "light"
     },
     "output_type": "display_data"
    }
   ],
   "source": [
    "word_coef_df.nsmallest(10, 'coefs').plot(kind = 'barh', legend=None)\n",
    "plt.yticks([i for i in range(10)], word_coef_df.nsmallest(10, 'coefs')['word'])\n",
    "plt.xlabel('Coefficients')\n",
    "plt.title('Words that Are Not Helping the Model Score')\n",
    "plt.savefig('nb_not_important_words.png', bbox_inches='tight');"
   ]
  },
  {
   "cell_type": "code",
   "execution_count": null,
   "metadata": {},
   "outputs": [],
   "source": []
  }
 ],
 "metadata": {
  "kernelspec": {
   "display_name": "Python 3",
   "language": "python",
   "name": "python3"
  },
  "language_info": {
   "codemirror_mode": {
    "name": "ipython",
    "version": 3
   },
   "file_extension": ".py",
   "mimetype": "text/x-python",
   "name": "python",
   "nbconvert_exporter": "python",
   "pygments_lexer": "ipython3",
   "version": "3.7.7"
  }
 },
 "nbformat": 4,
 "nbformat_minor": 4
}
