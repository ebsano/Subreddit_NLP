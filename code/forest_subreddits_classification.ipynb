{
 "cells": [
  {
   "cell_type": "markdown",
   "metadata": {},
   "source": [
    "# Classification of Subreddits"
   ]
  },
  {
   "cell_type": "code",
   "execution_count": 2,
   "metadata": {},
   "outputs": [],
   "source": [
    "# imports\n",
    "import pandas as pd\n",
    "import numpy as np\n",
    "import matplotlib.pyplot as plt\n",
    "import seaborn as sns\n",
    "\n",
    "from sklearn.model_selection import train_test_split, GridSearchCV, cross_val_score\n",
    "from sklearn.naive_bayes import MultinomialNB\n",
    "from sklearn.metrics import confusion_matrix, plot_confusion_matrix\n",
    "from sklearn.pipeline import make_pipeline\n",
    "from sklearn.ensemble import RandomForestClassifier\n",
    "\n",
    "# Import CountVectorizer and TFIDFVectorizer from feature_extraction.text.\n",
    "from sklearn.feature_extraction.text import CountVectorizer, TfidfVectorizer\n",
    "\n",
    "from nltk.stem.porter import PorterStemmer\n",
    "from nltk.stem import WordNetLemmatizer"
   ]
  },
  {
   "cell_type": "code",
   "execution_count": 3,
   "metadata": {},
   "outputs": [],
   "source": [
    "# read in cleaned data\n",
    "reddits = pd.read_csv('data/clean_reddits.csv')"
   ]
  },
  {
   "cell_type": "code",
   "execution_count": 3,
   "metadata": {},
   "outputs": [
    {
     "data": {
      "text/html": [
       "<div>\n",
       "<style scoped>\n",
       "    .dataframe tbody tr th:only-of-type {\n",
       "        vertical-align: middle;\n",
       "    }\n",
       "\n",
       "    .dataframe tbody tr th {\n",
       "        vertical-align: top;\n",
       "    }\n",
       "\n",
       "    .dataframe thead th {\n",
       "        text-align: right;\n",
       "    }\n",
       "</style>\n",
       "<table border=\"1\" class=\"dataframe\">\n",
       "  <thead>\n",
       "    <tr style=\"text-align: right;\">\n",
       "      <th></th>\n",
       "      <th>author</th>\n",
       "      <th>created_utc</th>\n",
       "      <th>permalink</th>\n",
       "      <th>subreddit</th>\n",
       "      <th>text</th>\n",
       "    </tr>\n",
       "  </thead>\n",
       "  <tbody>\n",
       "    <tr>\n",
       "      <th>0</th>\n",
       "      <td>dwaxe</td>\n",
       "      <td>1601660299</td>\n",
       "      <td>/r/TheOnion/comments/j3z3ds/real_estate_expert...</td>\n",
       "      <td>TheOnion</td>\n",
       "      <td>Real Estate Experts Confirm Having George Cloo...</td>\n",
       "    </tr>\n",
       "    <tr>\n",
       "      <th>1</th>\n",
       "      <td>kc9283</td>\n",
       "      <td>1601604158</td>\n",
       "      <td>/r/TheOnion/comments/j3m23g/subway_bread_isnt_...</td>\n",
       "      <td>TheOnion</td>\n",
       "      <td>Subway bread isn't bread, Irish court says</td>\n",
       "    </tr>\n",
       "  </tbody>\n",
       "</table>\n",
       "</div>"
      ],
      "text/plain": [
       "   author  created_utc                                          permalink  \\\n",
       "0   dwaxe   1601660299  /r/TheOnion/comments/j3z3ds/real_estate_expert...   \n",
       "1  kc9283   1601604158  /r/TheOnion/comments/j3m23g/subway_bread_isnt_...   \n",
       "\n",
       "  subreddit                                               text  \n",
       "0  TheOnion  Real Estate Experts Confirm Having George Cloo...  \n",
       "1  TheOnion         Subway bread isn't bread, Irish court says  "
      ]
     },
     "execution_count": 3,
     "metadata": {},
     "output_type": "execute_result"
    }
   ],
   "source": [
    "reddits.head(2)"
   ]
  },
  {
   "cell_type": "code",
   "execution_count": 64,
   "metadata": {},
   "outputs": [
    {
     "data": {
      "text/html": [
       "<div>\n",
       "<style scoped>\n",
       "    .dataframe tbody tr th:only-of-type {\n",
       "        vertical-align: middle;\n",
       "    }\n",
       "\n",
       "    .dataframe tbody tr th {\n",
       "        vertical-align: top;\n",
       "    }\n",
       "\n",
       "    .dataframe thead th {\n",
       "        text-align: right;\n",
       "    }\n",
       "</style>\n",
       "<table border=\"1\" class=\"dataframe\">\n",
       "  <thead>\n",
       "    <tr style=\"text-align: right;\">\n",
       "      <th></th>\n",
       "      <th>author</th>\n",
       "      <th>created_utc</th>\n",
       "      <th>permalink</th>\n",
       "      <th>subreddit</th>\n",
       "      <th>text</th>\n",
       "    </tr>\n",
       "  </thead>\n",
       "  <tbody>\n",
       "    <tr>\n",
       "      <th>29976</th>\n",
       "      <td>tamilidhal</td>\n",
       "      <td>1601267115</td>\n",
       "      <td>/r/news/comments/j15hsk/படடததரவகளல_பஙகறற_வலவயப...</td>\n",
       "      <td>news</td>\n",
       "      <td>போட்டித்தேர்வுகளில் பங்கேற்று வேலைவாய்ப்பு பெற...</td>\n",
       "    </tr>\n",
       "    <tr>\n",
       "      <th>29977</th>\n",
       "      <td>tamilidhal</td>\n",
       "      <td>1601267114</td>\n",
       "      <td>/r/news/comments/j15hs8/கரககல_அரச_மரததவமனயல_சம...</td>\n",
       "      <td>news</td>\n",
       "      <td>காரைக்கால் அரசு மருத்துவமனையில் சிமென்ட் காரை ...</td>\n",
       "    </tr>\n",
       "  </tbody>\n",
       "</table>\n",
       "</div>"
      ],
      "text/plain": [
       "           author  created_utc  \\\n",
       "29976  tamilidhal   1601267115   \n",
       "29977  tamilidhal   1601267114   \n",
       "\n",
       "                                               permalink subreddit  \\\n",
       "29976  /r/news/comments/j15hsk/படடததரவகளல_பஙகறற_வலவயப...      news   \n",
       "29977  /r/news/comments/j15hs8/கரககல_அரச_மரததவமனயல_சம...      news   \n",
       "\n",
       "                                                    text  \n",
       "29976  போட்டித்தேர்வுகளில் பங்கேற்று வேலைவாய்ப்பு பெற...  \n",
       "29977  காரைக்கால் அரசு மருத்துவமனையில் சிமென்ட் காரை ...  "
      ]
     },
     "execution_count": 64,
     "metadata": {},
     "output_type": "execute_result"
    }
   ],
   "source": [
    "reddits.tail(2)"
   ]
  },
  {
   "cell_type": "code",
   "execution_count": 65,
   "metadata": {},
   "outputs": [
    {
     "name": "stdout",
     "output_type": "stream",
     "text": [
      "<class 'pandas.core.frame.DataFrame'>\n",
      "RangeIndex: 29978 entries, 0 to 29977\n",
      "Data columns (total 5 columns):\n",
      " #   Column       Non-Null Count  Dtype \n",
      "---  ------       --------------  ----- \n",
      " 0   author       29978 non-null  object\n",
      " 1   created_utc  29978 non-null  int64 \n",
      " 2   permalink    29978 non-null  object\n",
      " 3   subreddit    29978 non-null  object\n",
      " 4   text         29978 non-null  object\n",
      "dtypes: int64(1), object(4)\n",
      "memory usage: 1.1+ MB\n"
     ]
    }
   ],
   "source": [
    "reddits.info()"
   ]
  },
  {
   "cell_type": "code",
   "execution_count": 55,
   "metadata": {},
   "outputs": [
    {
     "data": {
      "text/plain": [
       "(29978, 5)"
      ]
     },
     "execution_count": 55,
     "metadata": {},
     "output_type": "execute_result"
    }
   ],
   "source": [
    "reddits.shape"
   ]
  },
  {
   "cell_type": "code",
   "execution_count": 4,
   "metadata": {},
   "outputs": [],
   "source": [
    "# set X and y\n",
    "X = reddits['text']\n",
    "\n",
    "# binarize the target.\n",
    "y = np.where(reddits['subreddit'] == 'TheOnion', 1, 0)"
   ]
  },
  {
   "cell_type": "code",
   "execution_count": 5,
   "metadata": {},
   "outputs": [],
   "source": [
    "# train test split (no need to stratify, sample number are essentially the same for both subreddits)\n",
    "X_train, X_test, y_train, y_test = train_test_split(X, y, stratify=y, random_state = 777)"
   ]
  },
  {
   "cell_type": "markdown",
   "metadata": {},
   "source": [
    "### Calculating the baseline"
   ]
  },
  {
   "cell_type": "code",
   "execution_count": 6,
   "metadata": {},
   "outputs": [
    {
     "data": {
      "text/plain": [
       "0.49966644429619744"
      ]
     },
     "execution_count": 6,
     "metadata": {},
     "output_type": "execute_result"
    }
   ],
   "source": [
    "y_test.sum() / len(y_test)"
   ]
  },
  {
   "cell_type": "markdown",
   "metadata": {},
   "source": [
    "##### As expected, the baseline would be 50% if guessed The Onion. It's essentially as good as a coin toss."
   ]
  },
  {
   "cell_type": "markdown",
   "metadata": {},
   "source": [
    "### Classification using CounterVectorizer and DecisionTreeClassifier"
   ]
  },
  {
   "cell_type": "code",
   "execution_count": 6,
   "metadata": {},
   "outputs": [],
   "source": [
    "# instatiate CounterVectorizer\n",
    "cvect = CountVectorizer(stop_words='english')"
   ]
  },
  {
   "cell_type": "code",
   "execution_count": 7,
   "metadata": {},
   "outputs": [],
   "source": [
    "X_train_cvect = cvect.fit_transform(X_train, y_train)\n",
    "X_test_cvect = cvect.transform(X_test)"
   ]
  },
  {
   "cell_type": "markdown",
   "metadata": {},
   "source": [
    "### Classification using CounterVectorizer and RandomForestClassifier"
   ]
  },
  {
   "cell_type": "code",
   "execution_count": 8,
   "metadata": {},
   "outputs": [
    {
     "data": {
      "text/plain": [
       "RandomForestClassifier()"
      ]
     },
     "execution_count": 8,
     "metadata": {},
     "output_type": "execute_result"
    }
   ],
   "source": [
    "# instantiate a random forest model\n",
    "rfc = RandomForestClassifier()\n",
    "rfc.fit(X_train_cvect, y_train)"
   ]
  },
  {
   "cell_type": "code",
   "execution_count": 9,
   "metadata": {},
   "outputs": [
    {
     "name": "stdout",
     "output_type": "stream",
     "text": [
      "train score: 0.9997776097495886\n",
      "test_score: 0.8695130086724483\n"
     ]
    }
   ],
   "source": [
    "# score\n",
    "print('train score:', rfc.score(X_train_cvect, y_train))\n",
    "print('test_score:', rfc.score(X_test_cvect, y_test))"
   ]
  },
  {
   "cell_type": "code",
   "execution_count": 17,
   "metadata": {},
   "outputs": [],
   "source": [
    "# add scores to file\n",
    "scores_df = pd.read_csv('data/model_scores.csv')\n",
    "train_score = rfc.score(X_train_cvect, y_train)\n",
    "test_score = rfc.score(X_test_cvect, y_test)\n",
    "score_df = pd.DataFrame({'model': 'random_forest', 'train_accuracy': train_score, 'test_accuracy': test_score},  index=[0])\n",
    "score_df = pd.concat([scores_df, score_df], ignore_index=True)\n",
    "score_df.to_csv('data/model_scores.csv', index=False)"
   ]
  },
  {
   "cell_type": "code",
   "execution_count": 17,
   "metadata": {},
   "outputs": [
    {
     "data": {
      "text/plain": [
       "array([0.85016678, 0.85188151, 0.83867094])"
      ]
     },
     "execution_count": 17,
     "metadata": {},
     "output_type": "execute_result"
    }
   ],
   "source": [
    "# cross validate\n",
    "cross_val_score(rfc, X_train_cvect, y_train, cv=3)"
   ]
  },
  {
   "cell_type": "code",
   "execution_count": 18,
   "metadata": {},
   "outputs": [
    {
     "data": {
      "image/png": "[encoded data removed]",
      "text/plain": [
       "<Figure size 432x288 with 2 Axes>"
      ]
     },
     "metadata": {
      "needs_background": "light"
     },
     "output_type": "display_data"
    }
   ],
   "source": [
    "plot_confusion_matrix(rfc, X_test_cvect, y_test, display_labels=['news', 'The Onion']);"
   ]
  },
  {
   "cell_type": "markdown",
   "metadata": {},
   "source": [
    "The score is better than a decision tree."
   ]
  },
  {
   "cell_type": "code",
   "execution_count": null,
   "metadata": {},
   "outputs": [],
   "source": []
  }
 ],
 "metadata": {
  "kernelspec": {
   "display_name": "Python 3",
   "language": "python",
   "name": "python3"
  },
  "language_info": {
   "codemirror_mode": {
    "name": "ipython",
    "version": 3
   },
   "file_extension": ".py",
   "mimetype": "text/x-python",
   "name": "python",
   "nbconvert_exporter": "python",
   "pygments_lexer": "ipython3",
   "version": "3.7.7"
  }
 },
 "nbformat": 4,
 "nbformat_minor": 4
}
