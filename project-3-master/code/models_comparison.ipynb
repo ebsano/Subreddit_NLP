{
 "cells": [
  {
   "cell_type": "markdown",
   "metadata": {},
   "source": [
    "# Subreddit Classification"
   ]
  },
  {
   "cell_type": "code",
   "execution_count": 6,
   "metadata": {},
   "outputs": [],
   "source": [
    "import pandas as pd\n",
    "import numpy as np\n",
    "import matplotlib.pyplot as plt\n",
    "import seaborn as sns"
   ]
  },
  {
   "cell_type": "code",
   "execution_count": 68,
   "metadata": {},
   "outputs": [
    {
     "data": {
      "text/html": [
       "<div>\n",
       "<style scoped>\n",
       "    .dataframe tbody tr th:only-of-type {\n",
       "        vertical-align: middle;\n",
       "    }\n",
       "\n",
       "    .dataframe tbody tr th {\n",
       "        vertical-align: top;\n",
       "    }\n",
       "\n",
       "    .dataframe thead th {\n",
       "        text-align: right;\n",
       "    }\n",
       "</style>\n",
       "<table border=\"1\" class=\"dataframe\">\n",
       "  <thead>\n",
       "    <tr style=\"text-align: right;\">\n",
       "      <th></th>\n",
       "      <th>train_accuracy</th>\n",
       "      <th>test_accuracy</th>\n",
       "    </tr>\n",
       "    <tr>\n",
       "      <th>model</th>\n",
       "      <th></th>\n",
       "      <th></th>\n",
       "    </tr>\n",
       "  </thead>\n",
       "  <tbody>\n",
       "    <tr>\n",
       "      <th>Null</th>\n",
       "      <td>0.500378</td>\n",
       "      <td>0.500334</td>\n",
       "    </tr>\n",
       "    <tr>\n",
       "      <th>naive_bayes</th>\n",
       "      <td>0.932616</td>\n",
       "      <td>0.888993</td>\n",
       "    </tr>\n",
       "    <tr>\n",
       "      <th>decision_tree</th>\n",
       "      <td>0.999778</td>\n",
       "      <td>0.825217</td>\n",
       "    </tr>\n",
       "    <tr>\n",
       "      <th>random_forest</th>\n",
       "      <td>0.999778</td>\n",
       "      <td>0.869513</td>\n",
       "    </tr>\n",
       "    <tr>\n",
       "      <th>logistic_regression</th>\n",
       "      <td>0.999778</td>\n",
       "      <td>0.846164</td>\n",
       "    </tr>\n",
       "  </tbody>\n",
       "</table>\n",
       "</div>"
      ],
      "text/plain": [
       "                     train_accuracy  test_accuracy\n",
       "model                                             \n",
       "Null                       0.500378       0.500334\n",
       "naive_bayes                0.932616       0.888993\n",
       "decision_tree              0.999778       0.825217\n",
       "random_forest              0.999778       0.869513\n",
       "logistic_regression        0.999778       0.846164"
      ]
     },
     "execution_count": 68,
     "metadata": {},
     "output_type": "execute_result"
    }
   ],
   "source": [
    "acc_scores = pd.read_csv('data/model_scores.csv', index_col=0)\n",
    "acc_scores"
   ]
  },
  {
   "cell_type": "code",
   "execution_count": 82,
   "metadata": {},
   "outputs": [
    {
     "name": "stdout",
     "output_type": "stream",
     "text": [
      "[0.5, 0.5]\n",
      "[0.93, 0.89]\n",
      "[1.0, 0.83]\n",
      "[1.0, 0.87]\n",
      "[1.0, 0.85]\n"
     ]
    }
   ],
   "source": [
    "vals = [[round(train, 2), round(test, 2)] for train, test in zip(acc_scores['train_accuracy'], acc_scores['test_accuracy'])]\n",
    "for val in vals:\n",
    "    print(val)"
   ]
  },
  {
   "cell_type": "markdown",
   "metadata": {},
   "source": [
    "#### Plot the scores"
   ]
  },
  {
   "cell_type": "code",
   "execution_count": 104,
   "metadata": {},
   "outputs": [
    {
     "data": {
      "image/png": "[encoded data removed]",
      "text/plain": [
       "<Figure size 432x288 with 1 Axes>"
      ]
     },
     "metadata": {
      "needs_background": "light"
     },
     "output_type": "display_data"
    }
   ],
   "source": [
    "# with the help from\n",
    "# https://python-graph-gallery.com/11-grouped-barplot/\n",
    "# AND\n",
    "# https://python-graph-gallery.com/10-barplot-with-number-of-observation/\n",
    "\n",
    "# set width of bar\n",
    "barWidth = 0.25\n",
    " \n",
    "# set height of bar\n",
    "bars1 = acc_scores['train_accuracy']\n",
    "bars2 = acc_scores['test_accuracy']\n",
    " \n",
    "# Set position of bar on X axis\n",
    "r1 = np.arange(len(bars1))\n",
    "r2 = [x + barWidth for x in r1]\n",
    " \n",
    "# Make the plot\n",
    "plt.bar(r1, bars1, color='lawngreen', width=barWidth, label='var1')\n",
    "plt.bar(r2, bars2, color='grey', width=barWidth, label='var2')\n",
    "\n",
    "#labels\n",
    "models = ['Null', 'Naive Bayes', 'Decision Tree', 'Random Forest', 'Logistic Regression']\n",
    "\n",
    "# Add xticks on the middle of the group bars\n",
    "plt.ylabel('Accuracy Score')\n",
    "plt.xlabel('Model')\n",
    "plt.xticks([r + barWidth for r in range(len(bars1))], models, rotation=45)\n",
    " \n",
    "# Create legend & Show graphic\n",
    "plt.legend(labels=['Train', 'Test'], bbox_to_anchor=(1.05, 1), loc='upper left')\n",
    "\n",
    "# add values on top of bars\n",
    "scores = [[round(train, 2), round(test, 2)] for train, test in zip(acc_scores['train_accuracy'], acc_scores['test_accuracy'])]\n",
    "for i in range(len(r1)):\n",
    "    plt.text(x = r1[i]-0.1 , y = bars1[i]+0.01, s = scores[i][0], size = 8)\n",
    "    \n",
    "for i in range(len(r2)):\n",
    "    plt.text(x = r2[i]-0.1 , y = bars2[i]+0.01, s = scores[i][1], size = 8)\n",
    "\n",
    "\n",
    "# add title\n",
    "plt.title('Accuracy Scores of Models Compared to the Null Model')\n",
    "\n",
    "plt.savefig('figures/model_scores', bbox_inches='tight');"
   ]
  },
  {
   "cell_type": "code",
   "execution_count": null,
   "metadata": {},
   "outputs": [],
   "source": []
  }
 ],
 "metadata": {
  "kernelspec": {
   "display_name": "Python 3",
   "language": "python",
   "name": "python3"
  },
  "language_info": {
   "codemirror_mode": {
    "name": "ipython",
    "version": 3
   },
   "file_extension": ".py",
   "mimetype": "text/x-python",
   "name": "python",
   "nbconvert_exporter": "python",
   "pygments_lexer": "ipython3",
   "version": "3.7.7"
  }
 },
 "nbformat": 4,
 "nbformat_minor": 4
}
