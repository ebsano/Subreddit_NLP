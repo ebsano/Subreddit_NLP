{
 "cells": [
  {
   "cell_type": "markdown",
   "metadata": {},
   "source": [
    "# Classification of Subreddits"
   ]
  },
  {
   "cell_type": "code",
   "execution_count": 33,
   "metadata": {},
   "outputs": [],
   "source": [
    "# imports\n",
    "import pandas as pd\n",
    "import numpy as np\n",
    "import matplotlib.pyplot as plt\n",
    "import seaborn as sns\n",
    "\n",
    "from sklearn.model_selection import train_test_split, GridSearchCV, cross_val_score\n",
    "from sklearn.metrics import confusion_matrix, plot_confusion_matrix, plot_roc_curve\n",
    "from sklearn.pipeline import make_pipeline\n",
    "from sklearn.linear_model import LogisticRegression\n",
    "from sklearn.preprocessing import StandardScaler\n",
    "\n",
    "# Import CountVectorizer and TFIDFVectorizer from feature_extraction.text.\n",
    "from sklearn.feature_extraction.text import CountVectorizer, TfidfVectorizer\n",
    "\n",
    "from nltk.stem.porter import PorterStemmer\n",
    "from nltk.stem import WordNetLemmatizer"
   ]
  },
  {
   "cell_type": "code",
   "execution_count": 20,
   "metadata": {},
   "outputs": [],
   "source": [
    "# read in cleaned data\n",
    "reddits = pd.read_csv('data/clean_reddits.csv')"
   ]
  },
  {
   "cell_type": "code",
   "execution_count": 3,
   "metadata": {},
   "outputs": [
    {
     "data": {
      "text/html": [
       "<div>\n",
       "<style scoped>\n",
       "    .dataframe tbody tr th:only-of-type {\n",
       "        vertical-align: middle;\n",
       "    }\n",
       "\n",
       "    .dataframe tbody tr th {\n",
       "        vertical-align: top;\n",
       "    }\n",
       "\n",
       "    .dataframe thead th {\n",
       "        text-align: right;\n",
       "    }\n",
       "</style>\n",
       "<table border=\"1\" class=\"dataframe\">\n",
       "  <thead>\n",
       "    <tr style=\"text-align: right;\">\n",
       "      <th></th>\n",
       "      <th>author</th>\n",
       "      <th>created_utc</th>\n",
       "      <th>permalink</th>\n",
       "      <th>subreddit</th>\n",
       "      <th>text</th>\n",
       "    </tr>\n",
       "  </thead>\n",
       "  <tbody>\n",
       "    <tr>\n",
       "      <th>0</th>\n",
       "      <td>dwaxe</td>\n",
       "      <td>1601660299</td>\n",
       "      <td>/r/TheOnion/comments/j3z3ds/real_estate_expert...</td>\n",
       "      <td>TheOnion</td>\n",
       "      <td>Real Estate Experts Confirm Having George Cloo...</td>\n",
       "    </tr>\n",
       "    <tr>\n",
       "      <th>1</th>\n",
       "      <td>kc9283</td>\n",
       "      <td>1601604158</td>\n",
       "      <td>/r/TheOnion/comments/j3m23g/subway_bread_isnt_...</td>\n",
       "      <td>TheOnion</td>\n",
       "      <td>Subway bread isn't bread, Irish court says</td>\n",
       "    </tr>\n",
       "  </tbody>\n",
       "</table>\n",
       "</div>"
      ],
      "text/plain": [
       "   author  created_utc                                          permalink  \\\n",
       "0   dwaxe   1601660299  /r/TheOnion/comments/j3z3ds/real_estate_expert...   \n",
       "1  kc9283   1601604158  /r/TheOnion/comments/j3m23g/subway_bread_isnt_...   \n",
       "\n",
       "  subreddit                                               text  \n",
       "0  TheOnion  Real Estate Experts Confirm Having George Cloo...  \n",
       "1  TheOnion         Subway bread isn't bread, Irish court says  "
      ]
     },
     "execution_count": 3,
     "metadata": {},
     "output_type": "execute_result"
    }
   ],
   "source": [
    "reddits.head(2)"
   ]
  },
  {
   "cell_type": "code",
   "execution_count": 64,
   "metadata": {},
   "outputs": [
    {
     "data": {
      "text/html": [
       "<div>\n",
       "<style scoped>\n",
       "    .dataframe tbody tr th:only-of-type {\n",
       "        vertical-align: middle;\n",
       "    }\n",
       "\n",
       "    .dataframe tbody tr th {\n",
       "        vertical-align: top;\n",
       "    }\n",
       "\n",
       "    .dataframe thead th {\n",
       "        text-align: right;\n",
       "    }\n",
       "</style>\n",
       "<table border=\"1\" class=\"dataframe\">\n",
       "  <thead>\n",
       "    <tr style=\"text-align: right;\">\n",
       "      <th></th>\n",
       "      <th>author</th>\n",
       "      <th>created_utc</th>\n",
       "      <th>permalink</th>\n",
       "      <th>subreddit</th>\n",
       "      <th>text</th>\n",
       "    </tr>\n",
       "  </thead>\n",
       "  <tbody>\n",
       "    <tr>\n",
       "      <th>29976</th>\n",
       "      <td>tamilidhal</td>\n",
       "      <td>1601267115</td>\n",
       "      <td>/r/news/comments/j15hsk/படடததரவகளல_பஙகறற_வலவயப...</td>\n",
       "      <td>news</td>\n",
       "      <td>போட்டித்தேர்வுகளில் பங்கேற்று வேலைவாய்ப்பு பெற...</td>\n",
       "    </tr>\n",
       "    <tr>\n",
       "      <th>29977</th>\n",
       "      <td>tamilidhal</td>\n",
       "      <td>1601267114</td>\n",
       "      <td>/r/news/comments/j15hs8/கரககல_அரச_மரததவமனயல_சம...</td>\n",
       "      <td>news</td>\n",
       "      <td>காரைக்கால் அரசு மருத்துவமனையில் சிமென்ட் காரை ...</td>\n",
       "    </tr>\n",
       "  </tbody>\n",
       "</table>\n",
       "</div>"
      ],
      "text/plain": [
       "           author  created_utc  \\\n",
       "29976  tamilidhal   1601267115   \n",
       "29977  tamilidhal   1601267114   \n",
       "\n",
       "                                               permalink subreddit  \\\n",
       "29976  /r/news/comments/j15hsk/படடததரவகளல_பஙகறற_வலவயப...      news   \n",
       "29977  /r/news/comments/j15hs8/கரககல_அரச_மரததவமனயல_சம...      news   \n",
       "\n",
       "                                                    text  \n",
       "29976  போட்டித்தேர்வுகளில் பங்கேற்று வேலைவாய்ப்பு பெற...  \n",
       "29977  காரைக்கால் அரசு மருத்துவமனையில் சிமென்ட் காரை ...  "
      ]
     },
     "execution_count": 64,
     "metadata": {},
     "output_type": "execute_result"
    }
   ],
   "source": [
    "reddits.tail(2)"
   ]
  },
  {
   "cell_type": "code",
   "execution_count": 65,
   "metadata": {},
   "outputs": [
    {
     "name": "stdout",
     "output_type": "stream",
     "text": [
      "<class 'pandas.core.frame.DataFrame'>\n",
      "RangeIndex: 29978 entries, 0 to 29977\n",
      "Data columns (total 5 columns):\n",
      " #   Column       Non-Null Count  Dtype \n",
      "---  ------       --------------  ----- \n",
      " 0   author       29978 non-null  object\n",
      " 1   created_utc  29978 non-null  int64 \n",
      " 2   permalink    29978 non-null  object\n",
      " 3   subreddit    29978 non-null  object\n",
      " 4   text         29978 non-null  object\n",
      "dtypes: int64(1), object(4)\n",
      "memory usage: 1.1+ MB\n"
     ]
    }
   ],
   "source": [
    "reddits.info()"
   ]
  },
  {
   "cell_type": "code",
   "execution_count": 55,
   "metadata": {},
   "outputs": [
    {
     "data": {
      "text/plain": [
       "(29978, 5)"
      ]
     },
     "execution_count": 55,
     "metadata": {},
     "output_type": "execute_result"
    }
   ],
   "source": [
    "reddits.shape"
   ]
  },
  {
   "cell_type": "code",
   "execution_count": 21,
   "metadata": {},
   "outputs": [],
   "source": [
    "# set X and y\n",
    "X = reddits['text']\n",
    "\n",
    "# binarize the target.\n",
    "y = np.where(reddits['subreddit'] == 'TheOnion', 1, 0)"
   ]
  },
  {
   "cell_type": "code",
   "execution_count": 22,
   "metadata": {},
   "outputs": [],
   "source": [
    "# train test split (no need to stratify, sample number are essentially the same for both subreddits)\n",
    "X_train, X_test, y_train, y_test = train_test_split(X, y, stratify=y, random_state = 777)"
   ]
  },
  {
   "cell_type": "markdown",
   "metadata": {},
   "source": [
    "### Calculating the baseline"
   ]
  },
  {
   "cell_type": "code",
   "execution_count": 6,
   "metadata": {},
   "outputs": [
    {
     "data": {
      "text/plain": [
       "0.49966644429619744"
      ]
     },
     "execution_count": 6,
     "metadata": {},
     "output_type": "execute_result"
    }
   ],
   "source": [
    "y_test.sum() / len(y_test)"
   ]
  },
  {
   "cell_type": "markdown",
   "metadata": {},
   "source": [
    "##### As expected, the baseline would be 50% if guessed The Onion. It's essentially as good as a coin toss."
   ]
  },
  {
   "cell_type": "code",
   "execution_count": 48,
   "metadata": {},
   "outputs": [],
   "source": [
    "# instatiate CounterVectorizer\n",
    "cvect = CountVectorizer(stop_words='english')"
   ]
  },
  {
   "cell_type": "code",
   "execution_count": 49,
   "metadata": {},
   "outputs": [],
   "source": [
    "X_train_cvect = cvect.fit_transform(X_train, y_train)\n",
    "X_test_cvect = cvect.transform(X_test)"
   ]
  },
  {
   "cell_type": "markdown",
   "metadata": {},
   "source": [
    "#### A tiny bit of EDA"
   ]
  },
  {
   "cell_type": "code",
   "execution_count": 50,
   "metadata": {},
   "outputs": [],
   "source": [
    "# convert X_train to df\n",
    "X_train_df = pd.DataFrame(X_train_cvect.toarray(),\n",
    "                          columns=cvect.get_feature_names())\n",
    "\n",
    "# empty dictionary\n",
    "top_words = {}\n",
    "\n",
    "# loop through columns\n",
    "for i in X_train_df.columns:\n",
    "    # save sum of each column in dictionary\n",
    "    top_words[i] = X_train_df[i].sum()\n",
    "    \n",
    "# top_words to dataframe sorted by highest occurance\n",
    "most_freq = pd.DataFrame(sorted(top_words.items(), key = lambda x: x[1], reverse = True))"
   ]
  },
  {
   "cell_type": "code",
   "execution_count": 52,
   "metadata": {},
   "outputs": [
    {
     "data": {
      "image/png": "[encoded data removed]",
      "text/plain": [
       "<Figure size 432x288 with 1 Axes>"
      ]
     },
     "metadata": {
      "needs_background": "light"
     },
     "output_type": "display_data"
    }
   ],
   "source": [
    "# convert most frequent words to dataframe\n",
    "most_freq_df = pd.DataFrame(most_freq)\n",
    "\n",
    "# visualize top 10 words\n",
    "most_freq_df.nlargest(10, 1).plot(kind = 'bar', legend=None, color='grey')\n",
    "plt.xticks([i for i in range(10)], [col for col in most_freq_df.nlargest(10, 1)[0]])\n",
    "plt.xlabel('Words')\n",
    "plt.ylabel('Count')\n",
    "plt.title('The 10 Most Frequent Words from Subreddits r/TheOnion and r/news')\n",
    "plt.savefig('figures/countvectorizer_10_most_frequent_words', bbox_inches='tight');"
   ]
  },
  {
   "cell_type": "markdown",
   "metadata": {},
   "source": [
    "All those words look relevant, so I don't there is any need to add more stop words. However, I may benefit from stemming or keeping some words together like covid and 19. For right now, I will continue with this set."
   ]
  },
  {
   "cell_type": "code",
   "execution_count": 121,
   "metadata": {},
   "outputs": [
    {
     "data": {
      "image/png": "[encoded data removed]",
      "text/plain": [
       "<Figure size 864x216 with 1 Axes>"
      ]
     },
     "metadata": {
      "needs_background": "light"
     },
     "output_type": "display_data"
    }
   ],
   "source": [
    "most_freq_df.nsmallest(50, 1).plot(kind = 'bar', legend=None, figsize=(12, 3))\n",
    "plt.xticks([i for i in range(50)], [col for col in most_freq_df.nsmallest(50, 1)[0]])\n",
    "plt.xlabel('Words')\n",
    "plt.ylabel('Count')\n",
    "plt.title('The 50 Least Frequent Words from Subreddits r/TheOnion and r/news');"
   ]
  },
  {
   "cell_type": "markdown",
   "metadata": {},
   "source": [
    "Most of these look like random number. I will set the minimum occurance to 2 when fine tuning."
   ]
  },
  {
   "cell_type": "code",
   "execution_count": 84,
   "metadata": {},
   "outputs": [
    {
     "data": {
      "text/plain": [
       "(22483, 31904)"
      ]
     },
     "execution_count": 84,
     "metadata": {},
     "output_type": "execute_result"
    }
   ],
   "source": [
    "# how many words total after countervectorizer?\n",
    "X_train_cvect.shape"
   ]
  },
  {
   "cell_type": "markdown",
   "metadata": {},
   "source": [
    "### Classification using CounterVectorizer and LogisticRegression"
   ]
  },
  {
   "cell_type": "code",
   "execution_count": 25,
   "metadata": {},
   "outputs": [],
   "source": [
    "# scale vectorized X\n",
    "ss = StandardScaler(with_mean=False)\n",
    "X_train_cvect_ss = ss.fit_transform(X_train_cvect, y_train)\n",
    "X_test_cvect_ss = ss.transform(X_test_cvect)"
   ]
  },
  {
   "cell_type": "code",
   "execution_count": 26,
   "metadata": {},
   "outputs": [
    {
     "data": {
      "text/plain": [
       "LogisticRegression(max_iter=10000)"
      ]
     },
     "execution_count": 26,
     "metadata": {},
     "output_type": "execute_result"
    }
   ],
   "source": [
    "# instatiate and fit \n",
    "logr = LogisticRegression(max_iter=10000)\n",
    "logr.fit(X_train_cvect_ss, y_train)"
   ]
  },
  {
   "cell_type": "code",
   "execution_count": 27,
   "metadata": {},
   "outputs": [
    {
     "name": "stdout",
     "output_type": "stream",
     "text": [
      "train score: 0.9997776097495886\n",
      "test_score: 0.8461641094062708\n"
     ]
    }
   ],
   "source": [
    "# score\n",
    "print('train score:', logr.score(X_train_cvect_ss, y_train))\n",
    "print('test_score:', logr.score(X_test_cvect_ss, y_test))"
   ]
  },
  {
   "cell_type": "code",
   "execution_count": 37,
   "metadata": {},
   "outputs": [],
   "source": [
    "# add scores to file\n",
    "scores_df = pd.read_csv('data/model_scores.csv')\n",
    "train_score = logr.score(X_train_cvect_ss, y_train)\n",
    "test_score = logr.score(X_test_cvect_ss, y_test)\n",
    "score_df = pd.DataFrame({'model': 'logistic_regression', 'train_accuracy': train_score, 'test_accuracy': test_score},  index=[0])\n",
    "score_df = pd.concat([scores_df, score_df], ignore_index=True)\n",
    "score_df.to_csv('data/model_scores.csv', index=False)"
   ]
  },
  {
   "cell_type": "code",
   "execution_count": 195,
   "metadata": {},
   "outputs": [
    {
     "data": {
      "text/plain": [
       "array([0.83322215, 0.83133173, 0.83106485])"
      ]
     },
     "execution_count": 195,
     "metadata": {},
     "output_type": "execute_result"
    }
   ],
   "source": [
    "# cross validate\n",
    "cross_val_score(logr, X_train_cvect_ss, y_train, cv=3)"
   ]
  },
  {
   "cell_type": "code",
   "execution_count": 196,
   "metadata": {},
   "outputs": [
    {
     "data": {
      "image/png": "[encoded data removed]",
      "text/plain": [
       "<Figure size 432x288 with 2 Axes>"
      ]
     },
     "metadata": {
      "needs_background": "light"
     },
     "output_type": "display_data"
    }
   ],
   "source": [
    "plot_confusion_matrix(logr, X_test_cvect_ss, y_test, display_labels=['news', 'The Onion'], cmap='YlGn');"
   ]
  },
  {
   "cell_type": "markdown",
   "metadata": {},
   "source": [
    "### Classification using TfidfVectorizer and LogisticRegression"
   ]
  },
  {
   "cell_type": "code",
   "execution_count": 23,
   "metadata": {},
   "outputs": [],
   "source": [
    "# Instantiate the TfidfVectorizer\n",
    "tvec = TfidfVectorizer(stop_words='english')"
   ]
  },
  {
   "cell_type": "code",
   "execution_count": 75,
   "metadata": {},
   "outputs": [],
   "source": [
    "X_train_tvec = tvec.fit_transform(X_train, y_train)\n",
    "X_test_tvec = tvec.transform(X_test)"
   ]
  },
  {
   "cell_type": "code",
   "execution_count": 197,
   "metadata": {},
   "outputs": [],
   "source": [
    "# scale\n",
    "X_train_tvec_ss = ss.fit_transform(X_train_tvec, y_train)\n",
    "X_test_tvec_ss = ss.transform(X_test_tvec)"
   ]
  },
  {
   "cell_type": "code",
   "execution_count": 199,
   "metadata": {},
   "outputs": [
    {
     "data": {
      "text/plain": [
       "LogisticRegression(max_iter=10000)"
      ]
     },
     "execution_count": 199,
     "metadata": {},
     "output_type": "execute_result"
    }
   ],
   "source": [
    "# fit to logistic model\n",
    "logr2 = LogisticRegression(max_iter=10000)\n",
    "logr2.fit(X_train_tvec_ss, y_train)"
   ]
  },
  {
   "cell_type": "code",
   "execution_count": 200,
   "metadata": {},
   "outputs": [
    {
     "name": "stdout",
     "output_type": "stream",
     "text": [
      "train score: 0.9997776097495886\n",
      "test_score: 0.8588392261507671\n"
     ]
    }
   ],
   "source": [
    "# score\n",
    "print('train score:', logr2.score(X_train_tvec_ss, y_train))\n",
    "print('test_score:', logr2.score(X_test_tvec_ss, y_test))"
   ]
  },
  {
   "cell_type": "code",
   "execution_count": 201,
   "metadata": {},
   "outputs": [
    {
     "data": {
      "text/plain": [
       "array([0.84656438, 0.84294102, 0.84214038])"
      ]
     },
     "execution_count": 201,
     "metadata": {},
     "output_type": "execute_result"
    }
   ],
   "source": [
    "# cross validate\n",
    "cross_val_score(logr2, X_train_tvec_ss, y_train, cv=3)"
   ]
  },
  {
   "cell_type": "code",
   "execution_count": 202,
   "metadata": {},
   "outputs": [
    {
     "data": {
      "image/png": "[encoded data removed]",
      "text/plain": [
       "<Figure size 432x288 with 2 Axes>"
      ]
     },
     "metadata": {
      "needs_background": "light"
     },
     "output_type": "display_data"
    }
   ],
   "source": [
    "plot_confusion_matrix(logr2, X_test_tvec_ss, y_test, display_labels=['news', 'The Onion'], cmap='YlGn');"
   ]
  },
  {
   "cell_type": "markdown",
   "metadata": {},
   "source": [
    "TfidVectorizer or CounterVectorizer don't seem to make a difference on the model."
   ]
  },
  {
   "cell_type": "markdown",
   "metadata": {},
   "source": [
    "### Classification using WordNetLemmatizer, CountVectorizer, and LogisticRegression"
   ]
  },
  {
   "cell_type": "code",
   "execution_count": 44,
   "metadata": {},
   "outputs": [],
   "source": [
    "# make a function for lemmatizer\n",
    "def split_lemm(text):\n",
    "    text = text.lower()\n",
    "    lemm = WordNetLemmatizer()\n",
    "    return ' '.join([lemm.lemmatize(word) for word in text.split()])\n",
    "\n",
    "# instatiate countvectorizer with lemmatizer\n",
    "lem_cvect = CountVectorizer(preprocessor=split_lemm, stop_words='english')"
   ]
  },
  {
   "cell_type": "code",
   "execution_count": 45,
   "metadata": {},
   "outputs": [
    {
     "name": "stderr",
     "output_type": "stream",
     "text": [
      "/Users/emikobea/anaconda3/lib/python3.7/site-packages/sklearn/feature_extraction/text.py:386: UserWarning: Your stop_words may be inconsistent with your preprocessing. Tokenizing the stop words generated tokens ['ha', 'le', 'wa'] not in stop_words.\n",
      "  'stop_words.' % sorted(inconsistent))\n"
     ]
    }
   ],
   "source": [
    "X_train_lem_cvect = lem_cvect.fit_transform(X_train, y_train)\n",
    "X_test_lem_cvect = lem_cvect.transform(X_test)"
   ]
  },
  {
   "cell_type": "code",
   "execution_count": 46,
   "metadata": {},
   "outputs": [],
   "source": [
    "# convert X_train to df\n",
    "X_train_df_lem = pd.DataFrame(X_train_lem_cvect.toarray(),\n",
    "                          columns=lem_cvect.get_feature_names())\n",
    "\n",
    "# empty dictionary\n",
    "top_words2 = {}\n",
    "\n",
    "# loop through columns\n",
    "for i in X_train_df_lem.columns:\n",
    "    # save sum of each column in dictionary\n",
    "    top_words2[i] = X_train_df_lem[i].sum()\n",
    "    \n",
    "# top_words to dataframe sorted by highest occurance\n",
    "most_freq2 = pd.DataFrame(sorted(top_words2.items(), key = lambda x: x[1], reverse = True))"
   ]
  },
  {
   "cell_type": "code",
   "execution_count": 47,
   "metadata": {},
   "outputs": [
    {
     "data": {
      "image/png": "[encoded data removed]",
      "text/plain": [
       "<Figure size 432x288 with 1 Axes>"
      ]
     },
     "metadata": {
      "needs_background": "light"
     },
     "output_type": "display_data"
    }
   ],
   "source": [
    "# convert most frequent words to dataframe\n",
    "most_freq_df_lem = pd.DataFrame(most_freq2)\n",
    "\n",
    "# visualize top 10 words\n",
    "most_freq_df_lem.nlargest(10, 1).plot(kind = 'bar', legend=None, color='grey')\n",
    "plt.xticks([i for i in range(10)], [col for col in most_freq_df_lem.nlargest(10, 1)[0]])\n",
    "plt.xlabel('Words')\n",
    "plt.ylabel('Count')\n",
    "plt.title('The 10 Most Frequent Words from Subreddits r/TheOnion and r/news (WordNetLemmatizer)')\n",
    "plt.savefig('figures/lem_10_most_frequent_words', bbox_inches='tight');"
   ]
  },
  {
   "cell_type": "markdown",
   "metadata": {},
   "source": [
    "It changed the ranking a little compared to plain `CountVectorizer` but not a lot."
   ]
  },
  {
   "cell_type": "code",
   "execution_count": 203,
   "metadata": {},
   "outputs": [],
   "source": [
    "# scale\n",
    "X_train_lem_cvect_ss = ss.fit_transform(X_train_lem_cvect, y_train)\n",
    "X_test_lem_cvect_ss = ss.transform(X_test_lem_cvect)"
   ]
  },
  {
   "cell_type": "code",
   "execution_count": 204,
   "metadata": {},
   "outputs": [
    {
     "data": {
      "text/plain": [
       "LogisticRegression(max_iter=10000)"
      ]
     },
     "execution_count": 204,
     "metadata": {},
     "output_type": "execute_result"
    }
   ],
   "source": [
    "# fit to logistic model\n",
    "logr3 = LogisticRegression(max_iter=10000)\n",
    "logr3.fit(X_train_lem_cvect_ss, y_train)"
   ]
  },
  {
   "cell_type": "code",
   "execution_count": 205,
   "metadata": {},
   "outputs": [
    {
     "name": "stdout",
     "output_type": "stream",
     "text": [
      "train score: 0.9997776097495886\n",
      "test_score: 0.8360240160106738\n"
     ]
    }
   ],
   "source": [
    "# score\n",
    "print('train score:', logr3.score(X_train_lem_cvect_ss, y_train))\n",
    "print('test_score:', logr3.score(X_test_lem_cvect_ss, y_test))"
   ]
  },
  {
   "cell_type": "code",
   "execution_count": 206,
   "metadata": {},
   "outputs": [
    {
     "data": {
      "image/png": "[encoded data removed]",
      "text/plain": [
       "<Figure size 432x288 with 2 Axes>"
      ]
     },
     "metadata": {
      "needs_background": "light"
     },
     "output_type": "display_data"
    }
   ],
   "source": [
    "plot_confusion_matrix(logr3, X_test_lem_cvect_ss, y_test, display_labels=['news', 'The Onion'], cmap='YlGn');"
   ]
  },
  {
   "cell_type": "markdown",
   "metadata": {},
   "source": [
    "### Classification using PortStemmer, CountVectorizer, and LogisticRegression"
   ]
  },
  {
   "cell_type": "code",
   "execution_count": 40,
   "metadata": {},
   "outputs": [],
   "source": [
    "def split_stem(text):\n",
    "    text = text.lower()\n",
    "    stem = PorterStemmer()\n",
    "    return ' '.join([stem.stem(word) for word in text.split()])\n",
    "\n",
    "# instatiate countvectorizer with lemmatizer\n",
    "stem_cvect = CountVectorizer(preprocessor=split_stem, stop_words='english')"
   ]
  },
  {
   "cell_type": "code",
   "execution_count": 41,
   "metadata": {},
   "outputs": [
    {
     "name": "stderr",
     "output_type": "stream",
     "text": [
      "/Users/emikobea/anaconda3/lib/python3.7/site-packages/sklearn/feature_extraction/text.py:386: UserWarning: Your stop_words may be inconsistent with your preprocessing. Tokenizing the stop words generated tokens ['abov', 'afterward', 'alon', 'alreadi', 'alway', 'ani', 'anoth', 'anyon', 'anyth', 'anywher', 'becam', 'becaus', 'becom', 'befor', 'besid', 'cri', 'describ', 'dure', 'els', 'elsewher', 'empti', 'everi', 'everyon', 'everyth', 'everywher', 'fifti', 'formerli', 'forti', 'ha', 'henc', 'hereaft', 'herebi', 'hi', 'howev', 'hundr', 'inde', 'latterli', 'mani', 'meanwhil', 'moreov', 'mostli', 'nobodi', 'noon', 'noth', 'nowher', 'onc', 'onli', 'otherwis', 'ourselv', 'perhap', 'pleas', 'seriou', 'sever', 'sinc', 'sincer', 'sixti', 'someon', 'someth', 'sometim', 'somewher', 'themselv', 'thenc', 'thereaft', 'therebi', 'therefor', 'thi', 'thu', 'togeth', 'twelv', 'twenti', 'veri', 'wa', 'whatev', 'whenc', 'whenev', 'wherea', 'whereaft', 'wherebi', 'wherev', 'whi', 'yourselv'] not in stop_words.\n",
      "  'stop_words.' % sorted(inconsistent))\n"
     ]
    }
   ],
   "source": [
    "X_train_stem_cvect = stem_cvect.fit_transform(X_train, y_train)\n",
    "X_test_stem_cvect = stem_cvect.transform(X_test)"
   ]
  },
  {
   "cell_type": "code",
   "execution_count": 42,
   "metadata": {},
   "outputs": [],
   "source": [
    "# convert X_train to df\n",
    "X_train_df_stem = pd.DataFrame(X_train_stem_cvect.toarray(),\n",
    "                          columns=stem_cvect.get_feature_names())\n",
    "\n",
    "# empty dictionary\n",
    "top_words3 = {}\n",
    "\n",
    "# loop through columns\n",
    "for i in X_train_df_stem.columns:\n",
    "    # save sum of each column in dictionary\n",
    "    top_words3[i] = X_train_df_stem[i].sum()\n",
    "    \n",
    "# top_words to dataframe sorted by highest occurance\n",
    "most_freq3 = pd.DataFrame(sorted(top_words3.items(), key = lambda x: x[1], reverse = True))"
   ]
  },
  {
   "cell_type": "code",
   "execution_count": 43,
   "metadata": {},
   "outputs": [
    {
     "data": {
      "image/png": "[encoded data removed]",
      "text/plain": [
       "<Figure size 432x288 with 1 Axes>"
      ]
     },
     "metadata": {
      "needs_background": "light"
     },
     "output_type": "display_data"
    }
   ],
   "source": [
    "# convert most frequent words to dataframe\n",
    "most_freq_df_stem = pd.DataFrame(most_freq3)\n",
    "\n",
    "# visualize top 10 words\n",
    "most_freq_df_stem.nlargest(10, 1).plot(kind = 'bar', legend=None, color='grey')\n",
    "plt.xticks([i for i in range(10)], [col for col in most_freq_df_stem.nlargest(10, 1)[0]])\n",
    "plt.xlabel('Words')\n",
    "plt.ylabel('Count')\n",
    "plt.title('The 10 Most Frequent Words from Subreddits r/TheOnion and r/news (PortStemmer)')\n",
    "plt.savefig('figures/stem_10_most_frequent_words', bbox_inches='tight');"
   ]
  },
  {
   "cell_type": "code",
   "execution_count": 207,
   "metadata": {},
   "outputs": [],
   "source": [
    "# scale\n",
    "X_train_stem_cvect_ss = ss.fit_transform(X_train_stem_cvect, y_train)\n",
    "X_test_stem_cvect_ss = ss.transform(X_test_stem_cvect)"
   ]
  },
  {
   "cell_type": "code",
   "execution_count": 208,
   "metadata": {},
   "outputs": [
    {
     "data": {
      "text/plain": [
       "LogisticRegression(max_iter=10000)"
      ]
     },
     "execution_count": 208,
     "metadata": {},
     "output_type": "execute_result"
    }
   ],
   "source": [
    "# fit to logistic model\n",
    "logr4 = LogisticRegression(max_iter=10000)\n",
    "logr4.fit(X_train_stem_cvect_ss, y_train)"
   ]
  },
  {
   "cell_type": "code",
   "execution_count": 209,
   "metadata": {},
   "outputs": [
    {
     "name": "stdout",
     "output_type": "stream",
     "text": [
      "train score: 0.9997776097495886\n",
      "test_score: 0.8345563709139426\n"
     ]
    }
   ],
   "source": [
    "# score\n",
    "print('train score:', logr4.score(X_train_stem_cvect_ss, y_train))\n",
    "print('test_score:', logr4.score(X_test_stem_cvect_ss, y_test))"
   ]
  },
  {
   "cell_type": "code",
   "execution_count": 153,
   "metadata": {},
   "outputs": [
    {
     "data": {
      "image/png": "[encoded data removed]",
      "text/plain": [
       "<Figure size 432x288 with 2 Axes>"
      ]
     },
     "metadata": {
      "needs_background": "light"
     },
     "output_type": "display_data"
    }
   ],
   "source": [
    "plot_confusion_matrix(logr4, X_test_stem_cvect, y_test, display_labels=['news', 'The Onion'], cmap='YlGn');"
   ]
  },
  {
   "cell_type": "markdown",
   "metadata": {},
   "source": [
    "Stemming is not really making a difference."
   ]
  },
  {
   "cell_type": "markdown",
   "metadata": {},
   "source": [
    "### Optimazing LogisticRegression with CountVectorizer"
   ]
  },
  {
   "cell_type": "code",
   "execution_count": 6,
   "metadata": {},
   "outputs": [],
   "source": [
    "# use pipeline and gridsearch to try to improve the accuracy score\n",
    "cvect = CountVectorizer(stop_words='english')\n",
    "logr5 = LogisticRegression(max_iter=10000)\n",
    "sscale = StandardScaler(with_mean=False)\n",
    "\n",
    "# make a pipeline\n",
    "pipe = make_pipeline(cvect, sscale, logr5)\n",
    "\n",
    "\n",
    "params = {\n",
    "    'countvectorizer__max_features': [2000, 3000, 4000, 5000],\n",
    "    'countvectorizer__min_df': [2 ,3],\n",
    "    'countvectorizer__max_df': [0.9, 0.95],\n",
    "    'countvectorizer__ngram_range': [(1,1), (1, 2)],\n",
    "    'logisticregression__C': [0.01, 0.1, 1., 10.]\n",
    "              }\n",
    "\n",
    "grid = GridSearchCV(pipe, params, n_jobs = -1)"
   ]
  },
  {
   "cell_type": "code",
   "execution_count": 213,
   "metadata": {},
   "outputs": [
    {
     "data": {
      "text/plain": [
       "GridSearchCV(estimator=Pipeline(steps=[('countvectorizer',\n",
       "                                        CountVectorizer(stop_words='english')),\n",
       "                                       ('standardscaler',\n",
       "                                        StandardScaler(with_mean=False)),\n",
       "                                       ('logisticregression',\n",
       "                                        LogisticRegression(max_iter=10000))]),\n",
       "             n_jobs=-1,\n",
       "             param_grid={'countvectorizer__max_df': [0.9, 0.95],\n",
       "                         'countvectorizer__max_features': [2000, 3000, 4000,\n",
       "                                                           5000],\n",
       "                         'countvectorizer__min_df': [2, 3],\n",
       "                         'countvectorizer__ngram_range': [(1, 1), (1, 2)],\n",
       "                         'logisticregression__C': [0.01, 0.1, 1.0, 10.0]})"
      ]
     },
     "execution_count": 213,
     "metadata": {},
     "output_type": "execute_result"
    }
   ],
   "source": [
    "grid.fit(X_train, y_train)"
   ]
  },
  {
   "cell_type": "code",
   "execution_count": 214,
   "metadata": {},
   "outputs": [
    {
     "data": {
      "text/plain": [
       "{'countvectorizer__max_df': 0.9,\n",
       " 'countvectorizer__max_features': 5000,\n",
       " 'countvectorizer__min_df': 2,\n",
       " 'countvectorizer__ngram_range': (1, 1),\n",
       " 'logisticregression__C': 0.01}"
      ]
     },
     "execution_count": 214,
     "metadata": {},
     "output_type": "execute_result"
    }
   ],
   "source": [
    "grid.best_params_"
   ]
  },
  {
   "cell_type": "code",
   "execution_count": 215,
   "metadata": {},
   "outputs": [
    {
     "name": "stdout",
     "output_type": "stream",
     "text": [
      "train score: 0.9580571987724058\n",
      "test_score: 0.8693795863909273\n"
     ]
    }
   ],
   "source": [
    "# score\n",
    "print('train score:', grid.score(X_train, y_train))\n",
    "print('test_score:', grid.score(X_test, y_test))"
   ]
  },
  {
   "cell_type": "code",
   "execution_count": 217,
   "metadata": {},
   "outputs": [
    {
     "data": {
      "text/plain": [
       "GridSearchCV(estimator=Pipeline(steps=[('countvectorizer',\n",
       "                                        CountVectorizer(stop_words='english')),\n",
       "                                       ('standardscaler',\n",
       "                                        StandardScaler(with_mean=False)),\n",
       "                                       ('logisticregression',\n",
       "                                        LogisticRegression(max_iter=10000))]),\n",
       "             n_jobs=-1,\n",
       "             param_grid={'countvectorizer__max_df': [0.4, 0.6, 0.8],\n",
       "                         'countvectorizer__max_features': [15000, 20000],\n",
       "                         'countvectorizer__min_df': [2],\n",
       "                         'countvectorizer__ngram_range': [(1, 1), (1, 2)],\n",
       "                         'countvectorizer__preprocessor': [None,\n",
       "                                                           <function split_lemm at 0x7fb77b599290>],\n",
       "                         'logisticregression__C': [0.001, 0.01, 0.1]})"
      ]
     },
     "execution_count": 217,
     "metadata": {},
     "output_type": "execute_result"
    }
   ],
   "source": [
    "# try again for more fine tuning, also including lemmatization\n",
    "\n",
    "params2 = {\n",
    "    'countvectorizer__max_features': [15000, 20000],\n",
    "    'countvectorizer__min_df': [2],\n",
    "    'countvectorizer__max_df': [0.4, 0.6, 0.8],\n",
    "    'countvectorizer__ngram_range': [(1,1), (1, 2)],\n",
    "    'countvectorizer__preprocessor': [None, split_lemm],\n",
    "    'logisticregression__C': [0.001, 0.01, 0.1]\n",
    "              }\n",
    "\n",
    "grid2 = GridSearchCV(pipe, params2, n_jobs = -1)\n",
    "\n",
    "grid2.fit(X_train, y_train)"
   ]
  },
  {
   "cell_type": "code",
   "execution_count": 218,
   "metadata": {},
   "outputs": [
    {
     "data": {
      "text/plain": [
       "{'countvectorizer__max_df': 0.4,\n",
       " 'countvectorizer__max_features': 20000,\n",
       " 'countvectorizer__min_df': 2,\n",
       " 'countvectorizer__ngram_range': (1, 2),\n",
       " 'countvectorizer__preprocessor': None,\n",
       " 'logisticregression__C': 0.001}"
      ]
     },
     "execution_count": 218,
     "metadata": {},
     "output_type": "execute_result"
    }
   ],
   "source": [
    "grid2.best_params_"
   ]
  },
  {
   "cell_type": "code",
   "execution_count": 219,
   "metadata": {},
   "outputs": [
    {
     "name": "stdout",
     "output_type": "stream",
     "text": [
      "train score: 0.9879019703776186\n",
      "test_score: 0.8979319546364243\n"
     ]
    }
   ],
   "source": [
    "# score\n",
    "print('train score:', grid2.score(X_train, y_train))\n",
    "print('test_score:', grid2.score(X_test, y_test))"
   ]
  },
  {
   "cell_type": "code",
   "execution_count": 9,
   "metadata": {},
   "outputs": [
    {
     "data": {
      "text/plain": [
       "GridSearchCV(estimator=Pipeline(steps=[('countvectorizer',\n",
       "                                        CountVectorizer(stop_words='english')),\n",
       "                                       ('standardscaler',\n",
       "                                        StandardScaler(with_mean=False)),\n",
       "                                       ('logisticregression',\n",
       "                                        LogisticRegression(max_iter=10000))]),\n",
       "             n_jobs=-1,\n",
       "             param_grid={'countvectorizer__max_df': [0.2, 0.4, 0.6],\n",
       "                         'countvectorizer__max_features': [15000, 20000],\n",
       "                         'countvectorizer__min_df': [2],\n",
       "                         'countvectorizer__ngram_range': [(1, 1), (1, 2)],\n",
       "                         'countvectorizer__preprocessor': [None,\n",
       "                                                           <function split_stem at 0x7fd5f8c158c0>],\n",
       "                         'logisticregression__C': [0.001, 0.01, 0.1]})"
      ]
     },
     "execution_count": 9,
     "metadata": {},
     "output_type": "execute_result"
    }
   ],
   "source": [
    "# one more time fine tuning with stemming\n",
    "params3 = {\n",
    "    'countvectorizer__max_features': [15000, 20000],\n",
    "    'countvectorizer__min_df': [2],\n",
    "    'countvectorizer__max_df': [0.2, 0.4, 0.6],\n",
    "    'countvectorizer__ngram_range': [(1,1), (1, 2)],\n",
    "    'countvectorizer__preprocessor': [None, split_stem],\n",
    "    'logisticregression__C': [0.001, 0.01, 0.1]\n",
    "              }\n",
    "\n",
    "grid3 = GridSearchCV(pipe, params3, n_jobs = -1)\n",
    "\n",
    "grid3.fit(X_train, y_train)"
   ]
  },
  {
   "cell_type": "code",
   "execution_count": 10,
   "metadata": {},
   "outputs": [
    {
     "data": {
      "text/plain": [
       "{'countvectorizer__max_df': 0.2,\n",
       " 'countvectorizer__max_features': 20000,\n",
       " 'countvectorizer__min_df': 2,\n",
       " 'countvectorizer__ngram_range': (1, 2),\n",
       " 'countvectorizer__preprocessor': None,\n",
       " 'logisticregression__C': 0.001}"
      ]
     },
     "execution_count": 10,
     "metadata": {},
     "output_type": "execute_result"
    }
   ],
   "source": [
    "grid3.best_params_"
   ]
  },
  {
   "cell_type": "code",
   "execution_count": 11,
   "metadata": {},
   "outputs": [
    {
     "name": "stdout",
     "output_type": "stream",
     "text": [
      "train score: 0.9879019703776186\n",
      "test_score: 0.8979319546364243\n"
     ]
    }
   ],
   "source": [
    "# score\n",
    "print('train score:', grid3.score(X_train, y_train))\n",
    "print('test_score:', grid3.score(X_test, y_test))"
   ]
  },
  {
   "cell_type": "markdown",
   "metadata": {},
   "source": [
    "Stemming nor lemmatizing is making a difference"
   ]
  },
  {
   "cell_type": "code",
   "execution_count": 223,
   "metadata": {},
   "outputs": [
    {
     "data": {
      "text/plain": [
       "GridSearchCV(estimator=Pipeline(steps=[('countvectorizer',\n",
       "                                        CountVectorizer(stop_words='english')),\n",
       "                                       ('standardscaler',\n",
       "                                        StandardScaler(with_mean=False)),\n",
       "                                       ('logisticregression',\n",
       "                                        LogisticRegression(max_iter=10000))]),\n",
       "             n_jobs=-1,\n",
       "             param_grid={'countvectorizer__max_df': [0.1, 0.2],\n",
       "                         'countvectorizer__max_features': [20000, 25000],\n",
       "                         'countvectorizer__min_df': [2],\n",
       "                         'countvectorizer__ngram_range': [(1, 2)],\n",
       "                         'logisticregression__C': [0.0001, 0.05, 0.001]})"
      ]
     },
     "execution_count": 223,
     "metadata": {},
     "output_type": "execute_result"
    }
   ],
   "source": [
    "# one more time fine tuning\n",
    "params4 = {\n",
    "    'countvectorizer__max_features': [20000, 25000],\n",
    "    'countvectorizer__min_df': [2],\n",
    "    'countvectorizer__max_df': [0.1, 0.2],\n",
    "    'countvectorizer__ngram_range': [(1, 2)],\n",
    "    'logisticregression__C': [0.0001, 0.05, 0.001]\n",
    "              }\n",
    "\n",
    "grid4 = GridSearchCV(pipe, params4, n_jobs = -1)\n",
    "\n",
    "grid4.fit(X_train, y_train)"
   ]
  },
  {
   "cell_type": "code",
   "execution_count": 224,
   "metadata": {},
   "outputs": [
    {
     "data": {
      "text/plain": [
       "{'countvectorizer__max_df': 0.1,\n",
       " 'countvectorizer__max_features': 25000,\n",
       " 'countvectorizer__min_df': 2,\n",
       " 'countvectorizer__ngram_range': (1, 2),\n",
       " 'logisticregression__C': 0.0001}"
      ]
     },
     "execution_count": 224,
     "metadata": {},
     "output_type": "execute_result"
    }
   ],
   "source": [
    "grid4.best_params_"
   ]
  },
  {
   "cell_type": "code",
   "execution_count": 225,
   "metadata": {},
   "outputs": [
    {
     "name": "stdout",
     "output_type": "stream",
     "text": [
      "train score: 0.9660187697371347\n",
      "test_score: 0.894863242161441\n"
     ]
    }
   ],
   "source": [
    "# score\n",
    "print('train score:', grid4.score(X_train, y_train))\n",
    "print('test_score:', grid4.score(X_test, y_test))"
   ]
  },
  {
   "cell_type": "markdown",
   "metadata": {},
   "source": [
    "It's no really improving much anymore, so I will use `grid3` for getting details."
   ]
  },
  {
   "cell_type": "markdown",
   "metadata": {},
   "source": [
    "### Analysis of the best model"
   ]
  },
  {
   "cell_type": "code",
   "execution_count": 226,
   "metadata": {},
   "outputs": [
    {
     "data": {
      "image/png": "[encoded data removed]",
      "text/plain": [
       "<Figure size 432x288 with 2 Axes>"
      ]
     },
     "metadata": {
      "needs_background": "light"
     },
     "output_type": "display_data"
    }
   ],
   "source": [
    "# confusion matrix\n",
    "fig = plot_confusion_matrix(grid3, X_test, y_test, display_labels=['news', 'The Onion'], cmap='YlGn')\n",
    "fig;"
   ]
  },
  {
   "cell_type": "code",
   "execution_count": 34,
   "metadata": {},
   "outputs": [
    {
     "data": {
      "image/png": "[encoded data removed]",
      "text/plain": [
       "<Figure size 432x288 with 1 Axes>"
      ]
     },
     "metadata": {
      "needs_background": "light"
     },
     "output_type": "display_data"
    }
   ],
   "source": [
    "# roc auc curve\n",
    "plot_roc_curve(grid3, X_train, y_train)\n",
    "plt.plot([0,1], [0,1], 'k--');"
   ]
  },
  {
   "cell_type": "code",
   "execution_count": 12,
   "metadata": {},
   "outputs": [],
   "source": [
    "words = grid3.best_estimator_.named_steps['countvectorizer'].get_feature_names()\n",
    "word_coefs = grid3.best_estimator_.named_steps['logisticregression'].coef_[0]\n",
    "word_coef_df = pd.DataFrame({'coefs': word_coefs, 'word': words})"
   ]
  },
  {
   "cell_type": "code",
   "execution_count": 53,
   "metadata": {},
   "outputs": [
    {
     "data": {
      "image/png": "[encoded data removed]",
      "text/plain": [
       "<Figure size 432x288 with 1 Axes>"
      ]
     },
     "metadata": {
      "needs_background": "light"
     },
     "output_type": "display_data"
    }
   ],
   "source": [
    "word_coef_df.nlargest(10, 'coefs').plot(kind = 'barh', legend=None, color='grey')\n",
    "plt.yticks([i for i in range(10)], word_coef_df.nlargest(10, 'coefs')['word'])\n",
    "plt.xlabel('Coefficients')\n",
    "plt.title('Important Words')\n",
    "plt.savefig('figures/logr_important_words.png', bbox_inches='tight');"
   ]
  },
  {
   "cell_type": "code",
   "execution_count": 54,
   "metadata": {},
   "outputs": [
    {
     "data": {
      "image/png": "[encoded data removed]",
      "text/plain": [
       "<Figure size 432x288 with 1 Axes>"
      ]
     },
     "metadata": {
      "needs_background": "light"
     },
     "output_type": "display_data"
    }
   ],
   "source": [
    "word_coef_df.nsmallest(10, 'coefs').plot(kind = 'barh', legend=None, color='grey')\n",
    "plt.yticks([i for i in range(10)], word_coef_df.nsmallest(10, 'coefs')['word'])\n",
    "plt.xlabel('Coefficients')\n",
    "plt.title('Words that Are Not Helping the Model Score')\n",
    "plt.savefig('figures/logr_not_important_words.png', bbox_inches='tight');"
   ]
  },
  {
   "cell_type": "code",
   "execution_count": null,
   "metadata": {},
   "outputs": [],
   "source": []
  }
 ],
 "metadata": {
  "kernelspec": {
   "display_name": "Python 3",
   "language": "python",
   "name": "python3"
  },
  "language_info": {
   "codemirror_mode": {
    "name": "ipython",
    "version": 3
   },
   "file_extension": ".py",
   "mimetype": "text/x-python",
   "name": "python",
   "nbconvert_exporter": "python",
   "pygments_lexer": "ipython3",
   "version": "3.7.7"
  }
 },
 "nbformat": 4,
 "nbformat_minor": 4
}
